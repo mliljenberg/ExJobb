{
 "cells": [
  {
   "cell_type": "code",
   "execution_count": 1,
   "metadata": {},
   "outputs": [],
   "source": [
    "# Standard imports\n",
    "import numpy as np\n",
    "from IPython.display import HTML\n",
    "import pandas as pd\n",
    "import matplotlib.pyplot as plt\n",
    "import seaborn as sns\n",
    "import matplotlib.pyplot as plt\n",
    "from sklearn.preprocessing import MinMaxScaler\n",
    "import MySQLdb\n",
    "import pymc3 as pymc\n",
    "import scipy.stats as stats"
   ]
  },
  {
   "cell_type": "code",
   "execution_count": 2,
   "metadata": {},
   "outputs": [
    {
     "data": {
      "text/html": [
       "<script>\n",
       "code_show=true; \n",
       "function code_toggle() {\n",
       " if (code_show){\n",
       " $('div.input').hide();\n",
       " } else {\n",
       " $('div.input').show();\n",
       " }\n",
       " code_show = !code_show\n",
       "} \n",
       "$( document ).ready(code_toggle);\n",
       "</script>\n",
       "The raw code for this IPython notebook is by default hidden for easier reading.\n",
       "To toggle on/off the raw code, click <a href=\"javascript:code_toggle()\">here</a>."
      ],
      "text/plain": [
       "<IPython.core.display.HTML object>"
      ]
     },
     "execution_count": 2,
     "metadata": {},
     "output_type": "execute_result"
    }
   ],
   "source": [
    "HTML('''<script>\n",
    "code_show=true; \n",
    "function code_toggle() {\n",
    " if (code_show){\n",
    " $('div.input').hide();\n",
    " } else {\n",
    " $('div.input').show();\n",
    " }\n",
    " code_show = !code_show\n",
    "} \n",
    "$( document ).ready(code_toggle);\n",
    "</script>\n",
    "The raw code for this IPython notebook is by default hidden for easier reading.\n",
    "To toggle on/off the raw code, click <a href=\"javascript:code_toggle()\">here</a>.''')\n"
   ]
  },
  {
   "cell_type": "code",
   "execution_count": 3,
   "metadata": {
    "collapsed": true
   },
   "outputs": [],
   "source": [
    "def mean_calc(df):\n",
    "    mean_list = []\n",
    "    for i in range(0,11):\n",
    "        mean_list.append(calculate_mean(df.iloc[:,2:13].values[:,i]))\n",
    "    return mean_list"
   ]
  },
  {
   "cell_type": "code",
   "execution_count": 64,
   "metadata": {},
   "outputs": [],
   "source": [
    "def f_calc(df, number_f, title):\n",
    "    df1a = df[df['FPattern'] != 0]\n",
    "    df2a = df[df['FPattern'] != 1]\n",
    "\n",
    "    df1 = df1a[df1a['Time'] < 400]\n",
    "    df2 = df2a[df2a['Time'] < 400]\n",
    "    print()\n",
    "    df1_mean = df1.groupby(['MainId']).mean().mean()['Time']\n",
    "    df2_mean = df2.groupby(['MainId']).mean().mean()['Time']\n",
    "    \n",
    "    \n",
    "    print('The mean values for the {0} are:'.format(title))\n",
    "    print('Total mean time: {0:.2f}'.format(df.mean()['Time']))\n",
    "    print('Mean time inside F-pattern:  {0:.2f}'.format(df1_mean))\n",
    "    print('Mean time outside F-pattern: {0:.2f}'.format(df2_mean))\n",
    "    print(' ')\n",
    "    \n",
    "    t_test(df1.groupby(['MainId']).sum()['Time'].values, df2.groupby(['MainId']).sum()['Time'].values, \n",
    "          'Statistical significance for {0} test'.format(title))\n",
    "    return"
   ]
  },
  {
   "cell_type": "code",
   "execution_count": 5,
   "metadata": {},
   "outputs": [],
   "source": [
    "def t_test(a,b,title):\n",
    "    t, p = stats.ttest_ind(a,\n",
    "                       b, equal_var=False)\n",
    "\n",
    "    print(title)\n",
    "    print('T-value: {0:.4f}'.format(t))\n",
    "    print('P-value: {0:.4f}'.format(p))\n",
    "    if(p < 0.1):\n",
    "        print('There is a statistical significant since p < 0.1: {0:f} < 0.1'.format(p))\n",
    "    else:\n",
    "        print('No statistical significance since: p > 0.1: {0:f} > 0.1'.format(p))\n",
    "    return"
   ]
  },
  {
   "cell_type": "code",
   "execution_count": 6,
   "metadata": {
    "collapsed": true
   },
   "outputs": [],
   "source": [
    "def normal_bar(values1,labels,title):\n",
    "    fig, ax = plt.subplots()\n",
    "    bar_width = 0.35\n",
    "    opacity = 0.8\n",
    "    plt.bar(np.arange(len(values1)), values1, bar_width, alpha=opacity)\n",
    "    plt.xticks(np.arange(len(values1)), labels)\n",
    "    plt.title(title)\n",
    "    plt.legend()\n",
    "    plt.show()\n",
    "    return\n",
    "    "
   ]
  },
  {
   "cell_type": "code",
   "execution_count": 7,
   "metadata": {
    "collapsed": true
   },
   "outputs": [],
   "source": [
    "def sus_bar(df1,df2,df3,df4, title):\n",
    "    '''\n",
    "    labels = ['I liked the design of the site',\n",
    "              'The design of this site was similar too other news sites',\n",
    "              'I think that I would like to use this site frequently',\n",
    "              'I thought the site was easy to use',\n",
    "              'The design of this site was unusual to me',\n",
    "              'I thought there was too much inconsistency in this site',\n",
    "              'I felt very confident using the site',\n",
    "              'I thought the material i was looking for was easy to find',\n",
    "              'I found the site very cumbersome to use',\n",
    "              'I thought that the amount of information on this site was too sparse',\n",
    "              'I felt overwhelmed using this site']\n",
    "    '''\n",
    "    labels = range(1,12)\n",
    "    mean_list1 = mean_calc(df1)\n",
    "    mean_list2 = mean_calc(df2)\n",
    "    mean_list3 = mean_calc(df3)\n",
    "    mean_list4 = mean_calc(df4)\n",
    "    \n",
    "    bar_width = 0.2\n",
    "    opacity = 0.8\n",
    "    plt.figure(figsize=(30, 15))\n",
    "    plt.bar(np.arange(len(mean_list1))-(bar_width+bar_width/2), mean_list1, bar_width, alpha=opacity, label='QQ, zh')\n",
    "    plt.bar(np.arange(len(mean_list2))-bar_width/2, mean_list2, bar_width, alpha=opacity, label='QQ, En')\n",
    "    plt.bar(np.arange(len(mean_list3))+bar_width/2, mean_list3, bar_width, alpha=opacity, label='BBC, Zh')\n",
    "    plt.bar(np.arange(len(mean_list4))+(bar_width+bar_width/2), mean_list4, bar_width, alpha=opacity, label='BBC, En')\n",
    "    plt.xticks(np.arange(len(mean_list1)), labels)\n",
    "    plt.autoscale(tight=False)\n",
    "    plt.title(title)\n",
    "    plt.legend()\n",
    "    plt.show()\n",
    "    return\n"
   ]
  },
  {
   "cell_type": "code",
   "execution_count": 8,
   "metadata": {
    "collapsed": true
   },
   "outputs": [],
   "source": [
    "def show_bar_chart(values1,values2, labels,title):\n",
    "    \n",
    "    fig, ax = plt.subplots()\n",
    "    bar_width = 0.35\n",
    "    opacity = 0.8\n",
    "    plt.bar(np.arange(len(values1))-bar_width/2, values1, bar_width, alpha=opacity,label='English')\n",
    "    plt.bar(np.arange(len(values1))+bar_width/2, values2, bar_width, alpha=opacity,label='Chinese')\n",
    "    plt.xticks(np.arange(len(values1)), labels)\n",
    "    plt.title(title)\n",
    "    plt.legend()\n",
    "    plt.show()\n",
    "    return"
   ]
  },
  {
   "cell_type": "code",
   "execution_count": 9,
   "metadata": {
    "collapsed": true
   },
   "outputs": [],
   "source": [
    "def calculate_mean(alist):\n",
    "    value = sum(alist)/len(alist)\n",
    "    \n",
    "    return value"
   ]
  },
  {
   "cell_type": "markdown",
   "metadata": {},
   "source": [
    "# Data\n",
    "Stuff here\n"
   ]
  },
  {
   "cell_type": "code",
   "execution_count": 10,
   "metadata": {
    "collapsed": true
   },
   "outputs": [],
   "source": [
    "q_bbc_en = pd.read_csv('/Users/marcusliljenberg/Documents/ExJobb/Data/finished/questions_main_bbc_en.csv')\n",
    "q_qq_en = pd.read_csv('/Users/marcusliljenberg/Documents/ExJobb/Data/finished/questions_main_qq_en.csv')\n",
    "q_bbc_zh = pd.read_csv('/Users/marcusliljenberg/Documents/ExJobb/Data/finished/questions_main_bbc_zh.csv')\n",
    "q_qq_zh = pd.read_csv('/Users/marcusliljenberg/Documents/ExJobb/Data/finished/questions_main_qq_zh.csv')\n",
    "actions = pd.read_csv('/Users/marcusliljenberg/Documents/ExJobb/Data/finished/actions.csv')"
   ]
  },
  {
   "cell_type": "code",
   "execution_count": 11,
   "metadata": {
    "collapsed": true
   },
   "outputs": [],
   "source": [
    "\n",
    "\n",
    "mysql_cn= MySQLdb.connect(host='aa1fk59xwsw9wmv.cg05xtnsvhwq.ap-northeast-2.rds.amazonaws.com', \n",
    "                port=3306,user='Marcus', passwd='marcusl36', \n",
    "                db='ebdb')\n",
    "q_bbc_en = pd.read_sql('SELECT Questions.*, Main.Site, Main.Language, Main.Gender, Main.Age, QuestionText.FPattern FROM Questions Join Main ON Questions.MainId = Main.Id Join QuestionText ON Questions.QuestionId = QuestionText.id where Age < 70  and Main.Site = \"bbc\" and Main.Language = \"en\" and Questions.MainId != 55;', con=mysql_cn)  \n",
    "q_bbc_zh = pd.read_sql('SELECT Questions.*, Main.Site, Main.Language, Main.Gender, Main.Age, QuestionText.FPattern FROM Questions Join Main ON Questions.MainId = Main.Id Join QuestionText ON Questions.QuestionId = QuestionText.id where Age < 70  and Main.Site = \"bbc\" and Main.Language = \"zh\" and Questions.MainId != 101 and Questions.MainId != 18 and Questions.MainId != 125 and Questions.MainId != 176 and Questions.Id != 148 and Questions.Id != 149 and Questions.Id != 150 and Questions.Id != 151 and Questions.Id != 152 and Questions.Id != 153 and Questions.Id != 154 and Questions.Id != 155 and Questions.Id != 156;', con=mysql_cn)  \n",
    "q_qq_en = pd.read_sql('SELECT Questions.*, Main.Site, Main.Language, Main.Gender, Main.Age, QuestionText.FPattern FROM Questions Join Main ON Questions.MainId = Main.Id Join QuestionText ON Questions.QuestionId = QuestionText.id where Age < 70  and Main.Site = \"qq\" and Main.Language = \"en\";', con=mysql_cn)  \n",
    "q_qq_zh = pd.read_sql('SELECT Questions.*, Main.Site, Main.Language, Main.Gender, Main.Age, QuestionText.FPattern FROM Questions Join Main ON Questions.MainId = Main.Id Join QuestionText ON Questions.QuestionId = QuestionText.id where Age < 70  and Main.Site = \"qq\" and Main.Language = \"zh\" and Questions.MainId != 146 and Questions.MainId != 181;', con=mysql_cn)  \n",
    "\n",
    "q_qq_zh_sus = pd.read_sql(\"SELECT Sus.*, Main.* FROM Sus Join Main ON Sus.MainId = Main.id  where Age < 70 and Site = 'qq' and Language = 'zh';\", con=mysql_cn)  \n",
    "q_qq_en_sus = pd.read_sql(\"SELECT Sus.*, Main.* FROM Sus Join Main ON Sus.MainId = Main.id  where Age < 70 and Site = 'qq' and Language = 'en';\", con=mysql_cn)  \n",
    "q_bbc_en_sus = pd.read_sql(\"SELECT Sus.*, Main.* FROM Sus Join Main ON Sus.MainId = Main.id  where Age < 70 and Site = 'bbc' and Language = 'en';\", con=mysql_cn)  \n",
    "q_bbc_zh_sus = pd.read_sql(\"SELECT Sus.*, Main.* FROM Sus Join Main ON Sus.MainId = Main.id  where Age < 70 and Site = 'bbc' and Language = 'zh';\", con=mysql_cn)  \n",
    "\n",
    "mysql_cn.close()"
   ]
  },
  {
   "cell_type": "code",
   "execution_count": 12,
   "metadata": {
    "collapsed": true
   },
   "outputs": [],
   "source": [
    "mysql_cn= MySQLdb.connect(host='aa1fk59xwsw9wmv.cg05xtnsvhwq.ap-northeast-2.rds.amazonaws.com', \n",
    "                port=3306,user='Marcus', passwd='marcusl36', \n",
    "                db='ebdb')\n",
    "\n",
    "users = pd.read_sql(\"SELECT Sus.Id, Main.Age, Main.Gender, Main.Site, Main.Language FROM Sus Join Main ON Sus.MainId = Main.id  where Age < 70;\", con=mysql_cn)\n",
    "male_users = pd.read_sql(\"SELECT Sus.Id, Main.Age, Main.Gender, Main.Site, Main.Language FROM Sus Join Main ON Sus.MainId = Main.id  where Age < 70 and Gender = 0;\", con=mysql_cn)\n",
    "mysql_cn.close()"
   ]
  },
  {
   "cell_type": "code",
   "execution_count": 13,
   "metadata": {},
   "outputs": [
    {
     "data": {
      "text/html": [
       "<div>\n",
       "<style>\n",
       "    .dataframe thead tr:only-child th {\n",
       "        text-align: right;\n",
       "    }\n",
       "\n",
       "    .dataframe thead th {\n",
       "        text-align: left;\n",
       "    }\n",
       "\n",
       "    .dataframe tbody tr th {\n",
       "        vertical-align: top;\n",
       "    }\n",
       "</style>\n",
       "<table border=\"1\" class=\"dataframe\">\n",
       "  <thead>\n",
       "    <tr style=\"text-align: right;\">\n",
       "      <th></th>\n",
       "      <th>Correct</th>\n",
       "      <th>Time</th>\n",
       "      <th>Gender</th>\n",
       "    </tr>\n",
       "  </thead>\n",
       "  <tbody>\n",
       "    <tr>\n",
       "      <th>count</th>\n",
       "      <td>377.000000</td>\n",
       "      <td>377.000000</td>\n",
       "      <td>377.000000</td>\n",
       "    </tr>\n",
       "    <tr>\n",
       "      <th>mean</th>\n",
       "      <td>0.875332</td>\n",
       "      <td>25.310345</td>\n",
       "      <td>0.206897</td>\n",
       "    </tr>\n",
       "    <tr>\n",
       "      <th>std</th>\n",
       "      <td>0.330782</td>\n",
       "      <td>52.967289</td>\n",
       "      <td>0.405619</td>\n",
       "    </tr>\n",
       "    <tr>\n",
       "      <th>min</th>\n",
       "      <td>0.000000</td>\n",
       "      <td>0.000000</td>\n",
       "      <td>0.000000</td>\n",
       "    </tr>\n",
       "    <tr>\n",
       "      <th>25%</th>\n",
       "      <td>1.000000</td>\n",
       "      <td>7.000000</td>\n",
       "      <td>0.000000</td>\n",
       "    </tr>\n",
       "    <tr>\n",
       "      <th>50%</th>\n",
       "      <td>1.000000</td>\n",
       "      <td>14.000000</td>\n",
       "      <td>0.000000</td>\n",
       "    </tr>\n",
       "    <tr>\n",
       "      <th>75%</th>\n",
       "      <td>1.000000</td>\n",
       "      <td>29.000000</td>\n",
       "      <td>0.000000</td>\n",
       "    </tr>\n",
       "    <tr>\n",
       "      <th>max</th>\n",
       "      <td>1.000000</td>\n",
       "      <td>925.000000</td>\n",
       "      <td>1.000000</td>\n",
       "    </tr>\n",
       "  </tbody>\n",
       "</table>\n",
       "</div>"
      ],
      "text/plain": [
       "          Correct        Time      Gender\n",
       "count  377.000000  377.000000  377.000000\n",
       "mean     0.875332   25.310345    0.206897\n",
       "std      0.330782   52.967289    0.405619\n",
       "min      0.000000    0.000000    0.000000\n",
       "25%      1.000000    7.000000    0.000000\n",
       "50%      1.000000   14.000000    0.000000\n",
       "75%      1.000000   29.000000    0.000000\n",
       "max      1.000000  925.000000    1.000000"
      ]
     },
     "execution_count": 13,
     "metadata": {},
     "output_type": "execute_result"
    }
   ],
   "source": [
    "desc = q_bbc_en.drop(['StartTime', 'EndTime','Id','QuestionId','MainId','Age','FPattern'], axis=1)\n",
    "desc.describe()"
   ]
  },
  {
   "cell_type": "code",
   "execution_count": 14,
   "metadata": {},
   "outputs": [
    {
     "data": {
      "text/html": [
       "<div>\n",
       "<style>\n",
       "    .dataframe thead tr:only-child th {\n",
       "        text-align: right;\n",
       "    }\n",
       "\n",
       "    .dataframe thead th {\n",
       "        text-align: left;\n",
       "    }\n",
       "\n",
       "    .dataframe tbody tr th {\n",
       "        vertical-align: top;\n",
       "    }\n",
       "</style>\n",
       "<table border=\"1\" class=\"dataframe\">\n",
       "  <thead>\n",
       "    <tr style=\"text-align: right;\">\n",
       "      <th></th>\n",
       "      <th>Correct</th>\n",
       "      <th>Time</th>\n",
       "      <th>Gender</th>\n",
       "    </tr>\n",
       "  </thead>\n",
       "  <tbody>\n",
       "    <tr>\n",
       "      <th>count</th>\n",
       "      <td>247.000000</td>\n",
       "      <td>247.000000</td>\n",
       "      <td>247.000000</td>\n",
       "    </tr>\n",
       "    <tr>\n",
       "      <th>mean</th>\n",
       "      <td>0.744939</td>\n",
       "      <td>27.303644</td>\n",
       "      <td>0.526316</td>\n",
       "    </tr>\n",
       "    <tr>\n",
       "      <th>std</th>\n",
       "      <td>0.436780</td>\n",
       "      <td>39.280326</td>\n",
       "      <td>0.500321</td>\n",
       "    </tr>\n",
       "    <tr>\n",
       "      <th>min</th>\n",
       "      <td>0.000000</td>\n",
       "      <td>1.000000</td>\n",
       "      <td>0.000000</td>\n",
       "    </tr>\n",
       "    <tr>\n",
       "      <th>25%</th>\n",
       "      <td>0.000000</td>\n",
       "      <td>9.000000</td>\n",
       "      <td>0.000000</td>\n",
       "    </tr>\n",
       "    <tr>\n",
       "      <th>50%</th>\n",
       "      <td>1.000000</td>\n",
       "      <td>17.000000</td>\n",
       "      <td>1.000000</td>\n",
       "    </tr>\n",
       "    <tr>\n",
       "      <th>75%</th>\n",
       "      <td>1.000000</td>\n",
       "      <td>31.000000</td>\n",
       "      <td>1.000000</td>\n",
       "    </tr>\n",
       "    <tr>\n",
       "      <th>max</th>\n",
       "      <td>1.000000</td>\n",
       "      <td>438.000000</td>\n",
       "      <td>1.000000</td>\n",
       "    </tr>\n",
       "  </tbody>\n",
       "</table>\n",
       "</div>"
      ],
      "text/plain": [
       "          Correct        Time      Gender\n",
       "count  247.000000  247.000000  247.000000\n",
       "mean     0.744939   27.303644    0.526316\n",
       "std      0.436780   39.280326    0.500321\n",
       "min      0.000000    1.000000    0.000000\n",
       "25%      0.000000    9.000000    0.000000\n",
       "50%      1.000000   17.000000    1.000000\n",
       "75%      1.000000   31.000000    1.000000\n",
       "max      1.000000  438.000000    1.000000"
      ]
     },
     "execution_count": 14,
     "metadata": {},
     "output_type": "execute_result"
    }
   ],
   "source": [
    "desc = q_bbc_zh.drop(['StartTime', 'EndTime','Id','QuestionId','MainId','Age','FPattern'], axis=1)\n",
    "desc.describe()"
   ]
  },
  {
   "cell_type": "code",
   "execution_count": 15,
   "metadata": {},
   "outputs": [
    {
     "data": {
      "text/html": [
       "<div>\n",
       "<style>\n",
       "    .dataframe thead tr:only-child th {\n",
       "        text-align: right;\n",
       "    }\n",
       "\n",
       "    .dataframe thead th {\n",
       "        text-align: left;\n",
       "    }\n",
       "\n",
       "    .dataframe tbody tr th {\n",
       "        vertical-align: top;\n",
       "    }\n",
       "</style>\n",
       "<table border=\"1\" class=\"dataframe\">\n",
       "  <thead>\n",
       "    <tr style=\"text-align: right;\">\n",
       "      <th></th>\n",
       "      <th>Correct</th>\n",
       "      <th>Time</th>\n",
       "      <th>Gender</th>\n",
       "    </tr>\n",
       "  </thead>\n",
       "  <tbody>\n",
       "    <tr>\n",
       "      <th>count</th>\n",
       "      <td>403.000000</td>\n",
       "      <td>403.000000</td>\n",
       "      <td>403.000000</td>\n",
       "    </tr>\n",
       "    <tr>\n",
       "      <th>mean</th>\n",
       "      <td>0.866005</td>\n",
       "      <td>19.258065</td>\n",
       "      <td>0.193548</td>\n",
       "    </tr>\n",
       "    <tr>\n",
       "      <th>std</th>\n",
       "      <td>0.341070</td>\n",
       "      <td>24.265076</td>\n",
       "      <td>0.395570</td>\n",
       "    </tr>\n",
       "    <tr>\n",
       "      <th>min</th>\n",
       "      <td>0.000000</td>\n",
       "      <td>0.000000</td>\n",
       "      <td>0.000000</td>\n",
       "    </tr>\n",
       "    <tr>\n",
       "      <th>25%</th>\n",
       "      <td>1.000000</td>\n",
       "      <td>6.000000</td>\n",
       "      <td>0.000000</td>\n",
       "    </tr>\n",
       "    <tr>\n",
       "      <th>50%</th>\n",
       "      <td>1.000000</td>\n",
       "      <td>10.000000</td>\n",
       "      <td>0.000000</td>\n",
       "    </tr>\n",
       "    <tr>\n",
       "      <th>75%</th>\n",
       "      <td>1.000000</td>\n",
       "      <td>21.000000</td>\n",
       "      <td>0.000000</td>\n",
       "    </tr>\n",
       "    <tr>\n",
       "      <th>max</th>\n",
       "      <td>1.000000</td>\n",
       "      <td>151.000000</td>\n",
       "      <td>1.000000</td>\n",
       "    </tr>\n",
       "  </tbody>\n",
       "</table>\n",
       "</div>"
      ],
      "text/plain": [
       "          Correct        Time      Gender\n",
       "count  403.000000  403.000000  403.000000\n",
       "mean     0.866005   19.258065    0.193548\n",
       "std      0.341070   24.265076    0.395570\n",
       "min      0.000000    0.000000    0.000000\n",
       "25%      1.000000    6.000000    0.000000\n",
       "50%      1.000000   10.000000    0.000000\n",
       "75%      1.000000   21.000000    0.000000\n",
       "max      1.000000  151.000000    1.000000"
      ]
     },
     "execution_count": 15,
     "metadata": {},
     "output_type": "execute_result"
    }
   ],
   "source": [
    "desc = q_qq_en.drop(['StartTime', 'EndTime','Id','QuestionId','MainId','Age','FPattern'], axis=1)\n",
    "desc.describe()"
   ]
  },
  {
   "cell_type": "code",
   "execution_count": 16,
   "metadata": {},
   "outputs": [
    {
     "data": {
      "text/html": [
       "<div>\n",
       "<style>\n",
       "    .dataframe thead tr:only-child th {\n",
       "        text-align: right;\n",
       "    }\n",
       "\n",
       "    .dataframe thead th {\n",
       "        text-align: left;\n",
       "    }\n",
       "\n",
       "    .dataframe tbody tr th {\n",
       "        vertical-align: top;\n",
       "    }\n",
       "</style>\n",
       "<table border=\"1\" class=\"dataframe\">\n",
       "  <thead>\n",
       "    <tr style=\"text-align: right;\">\n",
       "      <th></th>\n",
       "      <th>Correct</th>\n",
       "      <th>Time</th>\n",
       "      <th>Gender</th>\n",
       "    </tr>\n",
       "  </thead>\n",
       "  <tbody>\n",
       "    <tr>\n",
       "      <th>count</th>\n",
       "      <td>247.000000</td>\n",
       "      <td>247.000000</td>\n",
       "      <td>247.000000</td>\n",
       "    </tr>\n",
       "    <tr>\n",
       "      <th>mean</th>\n",
       "      <td>0.846154</td>\n",
       "      <td>22.485830</td>\n",
       "      <td>0.631579</td>\n",
       "    </tr>\n",
       "    <tr>\n",
       "      <th>std</th>\n",
       "      <td>0.361534</td>\n",
       "      <td>25.783471</td>\n",
       "      <td>0.483356</td>\n",
       "    </tr>\n",
       "    <tr>\n",
       "      <th>min</th>\n",
       "      <td>0.000000</td>\n",
       "      <td>1.000000</td>\n",
       "      <td>0.000000</td>\n",
       "    </tr>\n",
       "    <tr>\n",
       "      <th>25%</th>\n",
       "      <td>1.000000</td>\n",
       "      <td>7.000000</td>\n",
       "      <td>0.000000</td>\n",
       "    </tr>\n",
       "    <tr>\n",
       "      <th>50%</th>\n",
       "      <td>1.000000</td>\n",
       "      <td>12.000000</td>\n",
       "      <td>1.000000</td>\n",
       "    </tr>\n",
       "    <tr>\n",
       "      <th>75%</th>\n",
       "      <td>1.000000</td>\n",
       "      <td>26.500000</td>\n",
       "      <td>1.000000</td>\n",
       "    </tr>\n",
       "    <tr>\n",
       "      <th>max</th>\n",
       "      <td>1.000000</td>\n",
       "      <td>183.000000</td>\n",
       "      <td>1.000000</td>\n",
       "    </tr>\n",
       "  </tbody>\n",
       "</table>\n",
       "</div>"
      ],
      "text/plain": [
       "          Correct        Time      Gender\n",
       "count  247.000000  247.000000  247.000000\n",
       "mean     0.846154   22.485830    0.631579\n",
       "std      0.361534   25.783471    0.483356\n",
       "min      0.000000    1.000000    0.000000\n",
       "25%      1.000000    7.000000    0.000000\n",
       "50%      1.000000   12.000000    1.000000\n",
       "75%      1.000000   26.500000    1.000000\n",
       "max      1.000000  183.000000    1.000000"
      ]
     },
     "execution_count": 16,
     "metadata": {},
     "output_type": "execute_result"
    }
   ],
   "source": [
    "desc = q_qq_zh.drop(['StartTime', 'EndTime','Id','QuestionId','MainId','Age','FPattern'], axis=1)\n",
    "desc.describe()"
   ]
  },
  {
   "cell_type": "code",
   "execution_count": 17,
   "metadata": {},
   "outputs": [
    {
     "data": {
      "text/html": [
       "<div>\n",
       "<style>\n",
       "    .dataframe thead tr:only-child th {\n",
       "        text-align: right;\n",
       "    }\n",
       "\n",
       "    .dataframe thead th {\n",
       "        text-align: left;\n",
       "    }\n",
       "\n",
       "    .dataframe tbody tr th {\n",
       "        vertical-align: top;\n",
       "    }\n",
       "</style>\n",
       "<table border=\"1\" class=\"dataframe\">\n",
       "  <thead>\n",
       "    <tr style=\"text-align: right;\">\n",
       "      <th></th>\n",
       "      <th>Id</th>\n",
       "      <th>MainId</th>\n",
       "      <th>QuestionId</th>\n",
       "      <th>Correct</th>\n",
       "      <th>StartTime</th>\n",
       "      <th>EndTime</th>\n",
       "      <th>Time</th>\n",
       "      <th>Site</th>\n",
       "      <th>Language</th>\n",
       "      <th>Gender</th>\n",
       "      <th>Age</th>\n",
       "      <th>FPattern</th>\n",
       "    </tr>\n",
       "  </thead>\n",
       "  <tbody>\n",
       "    <tr>\n",
       "      <th>0</th>\n",
       "      <td>483</td>\n",
       "      <td>52</td>\n",
       "      <td>2</td>\n",
       "      <td>0</td>\n",
       "      <td>-1 days +23:59:59</td>\n",
       "      <td>19:38:00</td>\n",
       "      <td>18</td>\n",
       "      <td>qq</td>\n",
       "      <td>zh</td>\n",
       "      <td>0</td>\n",
       "      <td>26</td>\n",
       "      <td>1</td>\n",
       "    </tr>\n",
       "    <tr>\n",
       "      <th>1</th>\n",
       "      <td>833</td>\n",
       "      <td>96</td>\n",
       "      <td>2</td>\n",
       "      <td>1</td>\n",
       "      <td>-1 days +23:59:59</td>\n",
       "      <td>22:00:19</td>\n",
       "      <td>10</td>\n",
       "      <td>qq</td>\n",
       "      <td>zh</td>\n",
       "      <td>0</td>\n",
       "      <td>26</td>\n",
       "      <td>1</td>\n",
       "    </tr>\n",
       "    <tr>\n",
       "      <th>2</th>\n",
       "      <td>1015</td>\n",
       "      <td>150</td>\n",
       "      <td>2</td>\n",
       "      <td>1</td>\n",
       "      <td>-1 days +23:59:59</td>\n",
       "      <td>17:05:20</td>\n",
       "      <td>29</td>\n",
       "      <td>qq</td>\n",
       "      <td>zh</td>\n",
       "      <td>1</td>\n",
       "      <td>26</td>\n",
       "      <td>1</td>\n",
       "    </tr>\n",
       "    <tr>\n",
       "      <th>3</th>\n",
       "      <td>1060</td>\n",
       "      <td>156</td>\n",
       "      <td>2</td>\n",
       "      <td>1</td>\n",
       "      <td>-1 days +23:59:59</td>\n",
       "      <td>17:19:49</td>\n",
       "      <td>13</td>\n",
       "      <td>qq</td>\n",
       "      <td>zh</td>\n",
       "      <td>0</td>\n",
       "      <td>20</td>\n",
       "      <td>1</td>\n",
       "    </tr>\n",
       "    <tr>\n",
       "      <th>4</th>\n",
       "      <td>1080</td>\n",
       "      <td>168</td>\n",
       "      <td>2</td>\n",
       "      <td>1</td>\n",
       "      <td>-1 days +23:59:59</td>\n",
       "      <td>17:29:16</td>\n",
       "      <td>10</td>\n",
       "      <td>qq</td>\n",
       "      <td>zh</td>\n",
       "      <td>0</td>\n",
       "      <td>20</td>\n",
       "      <td>1</td>\n",
       "    </tr>\n",
       "  </tbody>\n",
       "</table>\n",
       "</div>"
      ],
      "text/plain": [
       "     Id  MainId  QuestionId  Correct         StartTime  EndTime  Time Site  \\\n",
       "0   483      52           2        0 -1 days +23:59:59 19:38:00    18   qq   \n",
       "1   833      96           2        1 -1 days +23:59:59 22:00:19    10   qq   \n",
       "2  1015     150           2        1 -1 days +23:59:59 17:05:20    29   qq   \n",
       "3  1060     156           2        1 -1 days +23:59:59 17:19:49    13   qq   \n",
       "4  1080     168           2        1 -1 days +23:59:59 17:29:16    10   qq   \n",
       "\n",
       "  Language  Gender  Age  FPattern  \n",
       "0       zh       0   26         1  \n",
       "1       zh       0   26         1  \n",
       "2       zh       1   26         1  \n",
       "3       zh       0   20         1  \n",
       "4       zh       0   20         1  "
      ]
     },
     "execution_count": 17,
     "metadata": {},
     "output_type": "execute_result"
    }
   ],
   "source": [
    "q_qq_zh.head()\n"
   ]
  },
  {
   "cell_type": "code",
   "execution_count": 18,
   "metadata": {},
   "outputs": [
    {
     "data": {
      "text/html": [
       "<div>\n",
       "<style>\n",
       "    .dataframe thead tr:only-child th {\n",
       "        text-align: right;\n",
       "    }\n",
       "\n",
       "    .dataframe thead th {\n",
       "        text-align: left;\n",
       "    }\n",
       "\n",
       "    .dataframe tbody tr th {\n",
       "        vertical-align: top;\n",
       "    }\n",
       "</style>\n",
       "<table border=\"1\" class=\"dataframe\">\n",
       "  <thead>\n",
       "    <tr style=\"text-align: right;\">\n",
       "      <th></th>\n",
       "      <th>Id</th>\n",
       "      <th>MainId</th>\n",
       "      <th>Question1</th>\n",
       "      <th>Question2</th>\n",
       "      <th>Question3</th>\n",
       "      <th>Question4</th>\n",
       "      <th>Question5</th>\n",
       "      <th>Question6</th>\n",
       "      <th>Question7</th>\n",
       "      <th>Question8</th>\n",
       "      <th>Question9</th>\n",
       "      <th>Question10</th>\n",
       "      <th>Question11</th>\n",
       "      <th>Sum</th>\n",
       "      <th>Id</th>\n",
       "      <th>Site</th>\n",
       "      <th>Language</th>\n",
       "      <th>Gender</th>\n",
       "      <th>Age</th>\n",
       "    </tr>\n",
       "  </thead>\n",
       "  <tbody>\n",
       "    <tr>\n",
       "      <th>0</th>\n",
       "      <td>2</td>\n",
       "      <td>3</td>\n",
       "      <td>5</td>\n",
       "      <td>3</td>\n",
       "      <td>2</td>\n",
       "      <td>4</td>\n",
       "      <td>2</td>\n",
       "      <td>2</td>\n",
       "      <td>4</td>\n",
       "      <td>2</td>\n",
       "      <td>5</td>\n",
       "      <td>3</td>\n",
       "      <td>4</td>\n",
       "      <td>36</td>\n",
       "      <td>3</td>\n",
       "      <td>bbc</td>\n",
       "      <td>en</td>\n",
       "      <td>0</td>\n",
       "      <td>26</td>\n",
       "    </tr>\n",
       "    <tr>\n",
       "      <th>1</th>\n",
       "      <td>4</td>\n",
       "      <td>5</td>\n",
       "      <td>4</td>\n",
       "      <td>4</td>\n",
       "      <td>4</td>\n",
       "      <td>3</td>\n",
       "      <td>3</td>\n",
       "      <td>4</td>\n",
       "      <td>3</td>\n",
       "      <td>3</td>\n",
       "      <td>4</td>\n",
       "      <td>2</td>\n",
       "      <td>2</td>\n",
       "      <td>36</td>\n",
       "      <td>5</td>\n",
       "      <td>bbc</td>\n",
       "      <td>en</td>\n",
       "      <td>0</td>\n",
       "      <td>56</td>\n",
       "    </tr>\n",
       "    <tr>\n",
       "      <th>2</th>\n",
       "      <td>6</td>\n",
       "      <td>7</td>\n",
       "      <td>3</td>\n",
       "      <td>4</td>\n",
       "      <td>3</td>\n",
       "      <td>4</td>\n",
       "      <td>2</td>\n",
       "      <td>4</td>\n",
       "      <td>3</td>\n",
       "      <td>4</td>\n",
       "      <td>2</td>\n",
       "      <td>2</td>\n",
       "      <td>2</td>\n",
       "      <td>33</td>\n",
       "      <td>7</td>\n",
       "      <td>bbc</td>\n",
       "      <td>en</td>\n",
       "      <td>1</td>\n",
       "      <td>26</td>\n",
       "    </tr>\n",
       "    <tr>\n",
       "      <th>3</th>\n",
       "      <td>9</td>\n",
       "      <td>17</td>\n",
       "      <td>3</td>\n",
       "      <td>4</td>\n",
       "      <td>3</td>\n",
       "      <td>3</td>\n",
       "      <td>3</td>\n",
       "      <td>3</td>\n",
       "      <td>3</td>\n",
       "      <td>3</td>\n",
       "      <td>3</td>\n",
       "      <td>3</td>\n",
       "      <td>1</td>\n",
       "      <td>32</td>\n",
       "      <td>17</td>\n",
       "      <td>bbc</td>\n",
       "      <td>en</td>\n",
       "      <td>0</td>\n",
       "      <td>26</td>\n",
       "    </tr>\n",
       "    <tr>\n",
       "      <th>4</th>\n",
       "      <td>11</td>\n",
       "      <td>20</td>\n",
       "      <td>4</td>\n",
       "      <td>5</td>\n",
       "      <td>3</td>\n",
       "      <td>5</td>\n",
       "      <td>2</td>\n",
       "      <td>2</td>\n",
       "      <td>5</td>\n",
       "      <td>5</td>\n",
       "      <td>2</td>\n",
       "      <td>2</td>\n",
       "      <td>1</td>\n",
       "      <td>36</td>\n",
       "      <td>20</td>\n",
       "      <td>bbc</td>\n",
       "      <td>en</td>\n",
       "      <td>0</td>\n",
       "      <td>26</td>\n",
       "    </tr>\n",
       "  </tbody>\n",
       "</table>\n",
       "</div>"
      ],
      "text/plain": [
       "   Id  MainId  Question1  Question2  Question3  Question4  Question5  \\\n",
       "0   2       3          5          3          2          4          2   \n",
       "1   4       5          4          4          4          3          3   \n",
       "2   6       7          3          4          3          4          2   \n",
       "3   9      17          3          4          3          3          3   \n",
       "4  11      20          4          5          3          5          2   \n",
       "\n",
       "   Question6  Question7  Question8  Question9  Question10  Question11  Sum  \\\n",
       "0          2          4          2          5           3           4   36   \n",
       "1          4          3          3          4           2           2   36   \n",
       "2          4          3          4          2           2           2   33   \n",
       "3          3          3          3          3           3           1   32   \n",
       "4          2          5          5          2           2           1   36   \n",
       "\n",
       "   Id Site Language  Gender  Age  \n",
       "0   3  bbc       en       0   26  \n",
       "1   5  bbc       en       0   56  \n",
       "2   7  bbc       en       1   26  \n",
       "3  17  bbc       en       0   26  \n",
       "4  20  bbc       en       0   26  "
      ]
     },
     "execution_count": 18,
     "metadata": {},
     "output_type": "execute_result"
    }
   ],
   "source": [
    "q_bbc_en_sus.head()"
   ]
  },
  {
   "cell_type": "code",
   "execution_count": 19,
   "metadata": {},
   "outputs": [
    {
     "data": {
      "text/html": [
       "<div>\n",
       "<style>\n",
       "    .dataframe thead tr:only-child th {\n",
       "        text-align: right;\n",
       "    }\n",
       "\n",
       "    .dataframe thead th {\n",
       "        text-align: left;\n",
       "    }\n",
       "\n",
       "    .dataframe tbody tr th {\n",
       "        vertical-align: top;\n",
       "    }\n",
       "</style>\n",
       "<table border=\"1\" class=\"dataframe\">\n",
       "  <thead>\n",
       "    <tr style=\"text-align: right;\">\n",
       "      <th></th>\n",
       "      <th>Id</th>\n",
       "      <th>Age</th>\n",
       "      <th>Gender</th>\n",
       "      <th>Site</th>\n",
       "      <th>Language</th>\n",
       "    </tr>\n",
       "  </thead>\n",
       "  <tbody>\n",
       "    <tr>\n",
       "      <th>0</th>\n",
       "      <td>1</td>\n",
       "      <td>26</td>\n",
       "      <td>0</td>\n",
       "      <td>qq</td>\n",
       "      <td>en</td>\n",
       "    </tr>\n",
       "    <tr>\n",
       "      <th>1</th>\n",
       "      <td>2</td>\n",
       "      <td>26</td>\n",
       "      <td>0</td>\n",
       "      <td>bbc</td>\n",
       "      <td>en</td>\n",
       "    </tr>\n",
       "    <tr>\n",
       "      <th>2</th>\n",
       "      <td>3</td>\n",
       "      <td>20</td>\n",
       "      <td>0</td>\n",
       "      <td>qq</td>\n",
       "      <td>en</td>\n",
       "    </tr>\n",
       "    <tr>\n",
       "      <th>3</th>\n",
       "      <td>4</td>\n",
       "      <td>56</td>\n",
       "      <td>0</td>\n",
       "      <td>bbc</td>\n",
       "      <td>en</td>\n",
       "    </tr>\n",
       "    <tr>\n",
       "      <th>4</th>\n",
       "      <td>5</td>\n",
       "      <td>26</td>\n",
       "      <td>0</td>\n",
       "      <td>qq</td>\n",
       "      <td>en</td>\n",
       "    </tr>\n",
       "  </tbody>\n",
       "</table>\n",
       "</div>"
      ],
      "text/plain": [
       "   Id  Age  Gender Site Language\n",
       "0   1   26       0   qq       en\n",
       "1   2   26       0  bbc       en\n",
       "2   3   20       0   qq       en\n",
       "3   4   56       0  bbc       en\n",
       "4   5   26       0   qq       en"
      ]
     },
     "execution_count": 19,
     "metadata": {},
     "output_type": "execute_result"
    }
   ],
   "source": [
    "users.head()"
   ]
  },
  {
   "cell_type": "code",
   "execution_count": 20,
   "metadata": {
    "scrolled": false
   },
   "outputs": [
    {
     "name": "stdout",
     "output_type": "stream",
     "text": [
      "Total number of users: 101\n",
      "\n",
      "Male users:   63 \n",
      "Female users: 38\n",
      "\n",
      "English users: 59\n",
      "Chinese users: 42\n"
     ]
    },
    {
     "data": {
      "image/png": "[encoded data removed]",
      "text/plain": [
       "<matplotlib.figure.Figure at 0x10f6eb9e8>"
      ]
     },
     "metadata": {},
     "output_type": "display_data"
    },
    {
     "data": {
      "image/png": "[encoded data removed]",
      "text/plain": [
       "<matplotlib.figure.Figure at 0x10f710860>"
      ]
     },
     "metadata": {},
     "output_type": "display_data"
    }
   ],
   "source": [
    "print('Total number of users: {0}'.format(len(users)))\n",
    "\n",
    "print('\\nMale users:   {0} \\nFemale users: {1}'.format(len(male_users),(len(users)-len(male_users))))\n",
    "\n",
    "\n",
    "user_dict = dict()\n",
    "user_dict[17] = 0\n",
    "user_dict[20] = 0\n",
    "user_dict[26] = 0\n",
    "user_dict[36] = 0\n",
    "user_dict[46] = 0\n",
    "user_dict[56] = 0\n",
    "user_dict[66] = 0\n",
    "user_dict_en = dict()\n",
    "user_dict_en[17] = 0\n",
    "user_dict_en[20] = 0\n",
    "user_dict_en[26] = 0\n",
    "user_dict_en[36] = 0\n",
    "user_dict_en[46] = 0\n",
    "user_dict_en[56] = 0\n",
    "user_dict_en[66] = 0\n",
    "user_dict_zh = dict()\n",
    "user_dict_zh[17] = 0\n",
    "user_dict_zh[20] = 0\n",
    "user_dict_zh[26] = 0\n",
    "user_dict_zh[36] = 0\n",
    "user_dict_zh[46] = 0\n",
    "user_dict_zh[56] = 0\n",
    "user_dict_zh[66] = 0\n",
    "\n",
    "for user in users.values:\n",
    "    user_dict[user[1]] += 1\n",
    "    if(user[-1]=='en'):\n",
    "        user_dict_en[user[1]] += 1\n",
    "    else:\n",
    "        user_dict_zh[user[1]] += 1\n",
    "        \n",
    "print('\\nEnglish users: {0}'.format(sum(user_dict_en.values())));\n",
    "print('Chinese users: {0}'.format(sum(user_dict_zh.values())));\n",
    "    \n",
    "user_label = ['under 18', '18-24','25-34','35-44','45-54','55-64','66+']\n",
    "normal_bar(user_dict.values(),user_label, 'Age of all users')\n",
    "\n",
    "show_bar_chart(user_dict_en.values(), user_dict_zh.values(),user_label, 'Age users')\n",
    "\n",
    "\n"
   ]
  },
  {
   "cell_type": "markdown",
   "metadata": {},
   "source": [
    "# Data Cleaning"
   ]
  },
  {
   "cell_type": "code",
   "execution_count": 21,
   "metadata": {},
   "outputs": [
    {
     "data": {
      "text/plain": [
       "\"\\nmysql_cn= MySQLdb.connect(host='aa1fk59xwsw9wmv.cg05xtnsvhwq.ap-northeast-2.rds.amazonaws.com', \\n                port=3306,user='Marcus', passwd='marcusl36', \\n                db='ebdb')\\nincorrect_users = pd.read_sql('SELECT Main.Id FROM Questions Join Main ON Questions.MainId = Main.Id  where Age < 70 and correct = 0', con=mysql_cn)  \\n\\nmysql_cn.close()\\n\""
      ]
     },
     "execution_count": 21,
     "metadata": {},
     "output_type": "execute_result"
    }
   ],
   "source": [
    "# Users where everything was incorrect\n",
    "# Already fixed might be intresting to have in report\n",
    "'''\n",
    "mysql_cn= MySQLdb.connect(host='aa1fk59xwsw9wmv.cg05xtnsvhwq.ap-northeast-2.rds.amazonaws.com', \n",
    "                port=3306,user='Marcus', passwd='marcusl36', \n",
    "                db='ebdb')\n",
    "incorrect_users = pd.read_sql('SELECT Main.Id FROM Questions Join Main ON Questions.MainId = Main.Id  where Age < 70 and correct = 0', con=mysql_cn)  \n",
    "\n",
    "mysql_cn.close()\n",
    "'''"
   ]
  },
  {
   "cell_type": "code",
   "execution_count": 22,
   "metadata": {},
   "outputs": [
    {
     "data": {
      "text/plain": [
       "\"\\nincorrect = dict()\\nfor i in incorrect_users.values[:,0]:\\n    incorrect[i] = 0\\nfor i in incorrect_users.values[:,0]:\\n    incorrect[i] += 1\\nbad_users = []\\nfor key,value in incorrect.items():\\n    if(value >= 10):\\n        print('{0}:{1}'.format(key,value))\\n        bad_users.append(key)\\nprint(bad_users)\\nbad_rows = list(range(148,157))\\nprint(bad_rows)\\nprint('I made sure to not select these rows for the data later')\\n\""
      ]
     },
     "execution_count": 22,
     "metadata": {},
     "output_type": "execute_result"
    }
   ],
   "source": [
    "'''\n",
    "incorrect = dict()\n",
    "for i in incorrect_users.values[:,0]:\n",
    "    incorrect[i] = 0\n",
    "for i in incorrect_users.values[:,0]:\n",
    "    incorrect[i] += 1\n",
    "bad_users = []\n",
    "for key,value in incorrect.items():\n",
    "    if(value >= 10):\n",
    "        print('{0}:{1}'.format(key,value))\n",
    "        bad_users.append(key)\n",
    "print(bad_users)\n",
    "bad_rows = list(range(148,157))\n",
    "print(bad_rows)\n",
    "print('I made sure to not select these rows for the data later')\n",
    "'''"
   ]
  },
  {
   "cell_type": "code",
   "execution_count": 23,
   "metadata": {},
   "outputs": [
    {
     "name": "stdout",
     "output_type": "stream",
     "text": [
      "247\n"
     ]
    }
   ],
   "source": [
    "# Deleting all instances where the above occur\n",
    "\n",
    "print(len(q_bbc_zh['Id']))\n"
   ]
  },
  {
   "cell_type": "markdown",
   "metadata": {},
   "source": [
    "# Analysis of the Questions"
   ]
  },
  {
   "cell_type": "code",
   "execution_count": 25,
   "metadata": {},
   "outputs": [],
   "source": [
    "bbc_labels = ['1F', '2F', '3F', '4F', '5F', '6', '7F','8','9F','10','11F', '12', '13F']\n",
    "qq_labels = ['1F', '2', '3F', '4', '5F', '6', '7F','8','9','10','11F', '12F', '13']"
   ]
  },
  {
   "cell_type": "markdown",
   "metadata": {},
   "source": [
    "## BBC"
   ]
  },
  {
   "cell_type": "code",
   "execution_count": 26,
   "metadata": {},
   "outputs": [
    {
     "name": "stdout",
     "output_type": "stream",
     "text": [
      "Correct Values analysis BBC\n"
     ]
    },
    {
     "data": {
      "image/png": "[encoded data removed]",
      "text/plain": [
       "<matplotlib.figure.Figure at 0x10f822940>"
      ]
     },
     "metadata": {},
     "output_type": "display_data"
    },
    {
     "name": "stdout",
     "output_type": "stream",
     "text": [
      "Correct answers\n",
      "BBC en: 88%\n",
      "BBC zh: 74%\n",
      " \n",
      "Checking statistical significance between en and zh correct values diffrence in BBC\n",
      "T-value: 1.8893\n",
      "P-value: 0.0701\n",
      "There is a statistical significant since p < 0.1: 0.070100 < 0.1\n"
     ]
    }
   ],
   "source": [
    "print('Correct Values analysis BBC')\n",
    "\n",
    "\n",
    "\n",
    "show_bar_chart(q_bbc_en.groupby(['QuestionId']).sum()['Correct'].values/len(q_bbc_en.groupby(['MainId'])),\n",
    "               q_bbc_zh.groupby(['QuestionId']).sum()['Correct'].values/len(q_bbc_zh.groupby(['MainId'])), bbc_labels, 'BBC Correct')\n",
    "\n",
    "\n",
    "print('Correct answers')\n",
    "print('BBC en: {0:.0%}'.format(q_bbc_en['Correct'].sum()/len(q_bbc_en)))\n",
    "print('BBC zh: {0:.0%}'.format(q_bbc_zh['Correct'].sum()/len(q_bbc_zh)))\n",
    "print(' ')\n",
    "t_test(q_bbc_en.groupby(['MainId']).sum()['Correct'].values, q_bbc_zh.groupby(['MainId']).sum()['Correct'].values, 'Checking statistical significance between en and zh correct values diffrence in BBC')\n"
   ]
  },
  {
   "cell_type": "markdown",
   "metadata": {},
   "source": [
    "discussion here"
   ]
  },
  {
   "cell_type": "code",
   "execution_count": 27,
   "metadata": {},
   "outputs": [
    {
     "name": "stdout",
     "output_type": "stream",
     "text": [
      "Mean Time analysis BBC\n"
     ]
    },
    {
     "data": {
      "image/png": "[encoded data removed]",
      "text/plain": [
       "<matplotlib.figure.Figure at 0x10f754710>"
      ]
     },
     "metadata": {},
     "output_type": "display_data"
    },
    {
     "name": "stdout",
     "output_type": "stream",
     "text": [
      "Mean times for correct answers\n",
      "BBC mean time en: 297.14\n",
      "BBC mean time zh: 331.89\n",
      "\n",
      "Checking statistical significance between en and zh time diffrence in BBC\n",
      "T-value: -1.2225\n",
      "P-value: 0.2288\n",
      "No statistical significance since: p > 0.1: 0.228841 > 0.1\n"
     ]
    }
   ],
   "source": [
    "print('Mean Time analysis BBC')\n",
    "df1 = q_bbc_en\n",
    "df1 = df1[df1['Time'] < 400]\n",
    "df2 = q_bbc_zh\n",
    "df2 = df2[df2['Time'] < 400]\n",
    "show_bar_chart(df1.groupby(['QuestionId']).sum()['Time'].values/len(df1.groupby(['MainId'])),\n",
    "               df2.groupby(['QuestionId']).sum()['Time'].values/len(df2.groupby(['MainId'])), bbc_labels, 'BBC Mean Time')\n",
    "\n",
    "print('Mean times for correct answers')\n",
    "print('BBC mean time en: {0:.2f}'.format(sum(df1.groupby(['QuestionId']).sum()['Time'].values/len(df1.groupby(['MainId'])))))\n",
    "print('BBC mean time zh: {0:.2f}'.format(sum(df2.groupby(['QuestionId']).sum()['Time'].values/len(df2.groupby(['MainId'])))))\n",
    "\n",
    "print('')\n",
    "t_test(df1.groupby(['MainId']).sum()['Time'].values, df2.groupby(['MainId']).sum()['Time'].values, 'Checking statistical significance between en and zh time diffrence in BBC')\n"
   ]
  },
  {
   "cell_type": "markdown",
   "metadata": {},
   "source": [
    "discussion here"
   ]
  },
  {
   "cell_type": "code",
   "execution_count": 36,
   "metadata": {},
   "outputs": [
    {
     "name": "stdout",
     "output_type": "stream",
     "text": [
      "The mean values for the BBC English are:\n",
      "Mean time inside F-pattern:  18.97\n",
      "Mean time outside F-pattern: 31.78\n",
      " \n",
      "Statistical significance for BBC English test\n",
      "T-value: 2.8479\n",
      "P-value: 0.0062\n",
      "There is a statistical significant since p < 0.1: 0.006231 < 0.1\n",
      " \n",
      "The mean values for the BBC Chinese are:\n",
      "Mean time inside F-pattern:  24.38\n",
      "Mean time outside F-pattern: 28.49\n",
      " \n",
      "Statistical significance for BBC Chinese test\n",
      "T-value: 5.3301\n",
      "P-value: 0.0000\n",
      "There is a statistical significant since p < 0.1: 0.000011 < 0.1\n"
     ]
    }
   ],
   "source": [
    "# Mean Time on F-shaped vs non F-shaped questions\n",
    "f_calc(q_bbc_en,9, 'BBC English')\n",
    "print(' ')\n",
    "f_calc(q_bbc_zh,9, 'BBC Chinese')\n",
    "\n"
   ]
  },
  {
   "cell_type": "markdown",
   "metadata": {},
   "source": [
    "## QQ"
   ]
  },
  {
   "cell_type": "code",
   "execution_count": 59,
   "metadata": {},
   "outputs": [
    {
     "name": "stdout",
     "output_type": "stream",
     "text": [
      "Correct Values analysis QQ\n"
     ]
    },
    {
     "data": {
      "image/png": "[encoded data removed]",
      "text/plain": [
       "<matplotlib.figure.Figure at 0x1c12d2d780>"
      ]
     },
     "metadata": {},
     "output_type": "display_data"
    },
    {
     "name": "stdout",
     "output_type": "stream",
     "text": [
      "Correct answers\n",
      "QQ en: 87%\n",
      "QQ zh: 85%\n",
      " \n",
      "Checking statistical significance between en and zh correct values diffrence in BBC\n",
      "T-value: 0.4194\n",
      "P-value: 0.6784\n",
      "No statistical significance since: p > 0.1: 0.678385 > 0.1\n"
     ]
    }
   ],
   "source": [
    "print('Correct Values analysis QQ')\n",
    "\n",
    "\n",
    "\n",
    "show_bar_chart(q_qq_en.groupby(['QuestionId']).sum()['Correct'].values/len(q_qq_en.groupby(['MainId'])),\n",
    "               q_qq_zh.groupby(['QuestionId']).sum()['Correct'].values/len(q_qq_zh.groupby(['MainId'])), bbc_labels, 'QQ Correct')\n",
    "\n",
    "\n",
    "print('Correct answers')\n",
    "print('QQ en: {0:.0%}'.format(q_qq_en['Correct'].sum()/len(q_qq_en)))\n",
    "print('QQ zh: {0:.0%}'.format(q_qq_zh['Correct'].sum()/len(q_qq_zh)))\n",
    "print(' ')\n",
    "t_test(q_qq_en.groupby(['MainId']).sum()['Correct'].values, q_qq_zh.groupby(['MainId']).sum()['Correct'].values, 'Checking statistical significance between en and zh correct values diffrence in BBC')\n"
   ]
  },
  {
   "cell_type": "markdown",
   "metadata": {},
   "source": [
    "discussion here\n"
   ]
  },
  {
   "cell_type": "code",
   "execution_count": 62,
   "metadata": {},
   "outputs": [
    {
     "name": "stdout",
     "output_type": "stream",
     "text": [
      "Mean Time analysis QQ\n",
      "13\n"
     ]
    },
    {
     "name": "stderr",
     "output_type": "stream",
     "text": [
      "/Users/marcusliljenberg/anaconda3/lib/python3.6/site-packages/ipykernel_launcher.py:5: SettingWithCopyWarning: \n",
      "A value is trying to be set on a copy of a slice from a DataFrame.\n",
      "Try using .loc[row_indexer,col_indexer] = value instead\n",
      "\n",
      "See the caveats in the documentation: http://pandas.pydata.org/pandas-docs/stable/indexing.html#indexing-view-versus-copy\n",
      "  \"\"\"\n"
     ]
    },
    {
     "data": {
      "image/png": "[encoded data removed]",
      "text/plain": [
       "<matplotlib.figure.Figure at 0x1026de320>"
      ]
     },
     "metadata": {},
     "output_type": "display_data"
    },
    {
     "name": "stdout",
     "output_type": "stream",
     "text": [
      "Mean times for correct answers\n",
      "QQ mean time per user en: 216.39\n",
      "QQ mean time per user zh: 203.47\n",
      "QQ mean time per Question en: 17.65\n",
      "QQ mean time per Question zh: 18.50\n",
      "\n",
      "Checking statistical significance between en and zh time diffrence in BBC\n",
      "T-value: 0.5799\n",
      "P-value: 0.5655\n",
      "No statistical significance since: p > 0.1: 0.565541 > 0.1\n"
     ]
    }
   ],
   "source": [
    "print('Mean Time analysis QQ')\n",
    "df1 = q_qq_en\n",
    "df1 = df1[df1['Time'] < 400]\n",
    "extra = df1[df1['QuestionId'] == 23]\n",
    "extra['Correct'] += 1\n",
    "df1 = df1[df1['Correct'] == 1]\n",
    "df1= df1.append(extra)\n",
    "df2 = q_qq_zh\n",
    "df2 = df2[df2['Time'] < 400]\n",
    "df2 = df2[df2['Correct'] == 1]\n",
    "print(len(df2.groupby(['QuestionId'])))\n",
    "show_bar_chart(df1.groupby(['QuestionId']).sum()['Time'].values/len(df1.groupby(['MainId'])),\n",
    "               df2.groupby(['QuestionId']).sum()['Time'].values/len(df2.groupby(['MainId'])), bbc_labels, 'QQ Mean Time')\n",
    "\n",
    "print('Mean times for correct answers')\n",
    "\n",
    "print('QQ mean time per user en: {0:.2f}'.format(df1.groupby(['MainId']).sum().mean()['Time']))\n",
    "print('QQ mean time per user zh: {0:.2f}'.format(df2.groupby(['MainId']).sum().mean()['Time']))\n",
    "print('QQ mean time per Question en: {0:.2f}'.format(df1.mean()['Time']))\n",
    "print('QQ mean time per Question zh: {0:.2f}'.format(df2.mean()['Time']))\n",
    "\n",
    "print('')\n",
    "t_test(df1.groupby(['MainId']).sum()['Time'].values, df2.groupby(['MainId']).sum()['Time'].values, 'Checking statistical significance between en and zh time diffrence in BBC')\n",
    "\n"
   ]
  },
  {
   "cell_type": "code",
   "execution_count": 63,
   "metadata": {},
   "outputs": [
    {
     "name": "stdout",
     "output_type": "stream",
     "text": [
      " \n",
      "\n",
      "Total mean time: 17.65\n"
     ]
    },
    {
     "ename": "ValueError",
     "evalue": "Unknown format code 'f' for object of type 'str'",
     "output_type": "error",
     "traceback": [
      "\u001b[0;31m---------------------------------------------------------------------------\u001b[0m",
      "\u001b[0;31mValueError\u001b[0m                                Traceback (most recent call last)",
      "\u001b[0;32m<ipython-input-63-180f19706140>\u001b[0m in \u001b[0;36m<module>\u001b[0;34m()\u001b[0m\n\u001b[1;32m      1\u001b[0m \u001b[0mprint\u001b[0m\u001b[0;34m(\u001b[0m\u001b[0;34m' '\u001b[0m\u001b[0;34m)\u001b[0m\u001b[0;34m\u001b[0m\u001b[0m\n\u001b[0;32m----> 2\u001b[0;31m \u001b[0mf_calc\u001b[0m\u001b[0;34m(\u001b[0m\u001b[0mdf1\u001b[0m\u001b[0;34m,\u001b[0m\u001b[0;36m6\u001b[0m\u001b[0;34m,\u001b[0m \u001b[0;34m'QQ English'\u001b[0m\u001b[0;34m)\u001b[0m\u001b[0;34m\u001b[0m\u001b[0m\n\u001b[0m\u001b[1;32m      3\u001b[0m \u001b[0mprint\u001b[0m\u001b[0;34m(\u001b[0m\u001b[0;34m' '\u001b[0m\u001b[0;34m)\u001b[0m\u001b[0;34m\u001b[0m\u001b[0m\n\u001b[1;32m      4\u001b[0m \u001b[0mf_calc\u001b[0m\u001b[0;34m(\u001b[0m\u001b[0mdf2\u001b[0m\u001b[0;34m,\u001b[0m\u001b[0;36m6\u001b[0m\u001b[0;34m,\u001b[0m \u001b[0;34m'QQ Chinese'\u001b[0m\u001b[0;34m)\u001b[0m\u001b[0;34m\u001b[0m\u001b[0m\n",
      "\u001b[0;32m<ipython-input-58-2241bd285f27>\u001b[0m in \u001b[0;36mf_calc\u001b[0;34m(df, number_f, title)\u001b[0m\n\u001b[1;32m     10\u001b[0m \u001b[0;34m\u001b[0m\u001b[0m\n\u001b[1;32m     11\u001b[0m     \u001b[0mprint\u001b[0m\u001b[0;34m(\u001b[0m\u001b[0;34m'Total mean time: {0:.2f}'\u001b[0m\u001b[0;34m.\u001b[0m\u001b[0mformat\u001b[0m\u001b[0;34m(\u001b[0m\u001b[0mdf\u001b[0m\u001b[0;34m.\u001b[0m\u001b[0mmean\u001b[0m\u001b[0;34m(\u001b[0m\u001b[0;34m)\u001b[0m\u001b[0;34m[\u001b[0m\u001b[0;34m'Time'\u001b[0m\u001b[0;34m]\u001b[0m\u001b[0;34m)\u001b[0m\u001b[0;34m)\u001b[0m\u001b[0;34m\u001b[0m\u001b[0m\n\u001b[0;32m---> 12\u001b[0;31m     \u001b[0mprint\u001b[0m\u001b[0;34m(\u001b[0m\u001b[0;34m'The mean values for the {0:.2f} are:'\u001b[0m\u001b[0;34m.\u001b[0m\u001b[0mformat\u001b[0m\u001b[0;34m(\u001b[0m\u001b[0mtitle\u001b[0m\u001b[0;34m)\u001b[0m\u001b[0;34m)\u001b[0m\u001b[0;34m\u001b[0m\u001b[0m\n\u001b[0m\u001b[1;32m     13\u001b[0m     \u001b[0mprint\u001b[0m\u001b[0;34m(\u001b[0m\u001b[0;34m'Mean time inside F-pattern:  {0:.2f}'\u001b[0m\u001b[0;34m.\u001b[0m\u001b[0mformat\u001b[0m\u001b[0;34m(\u001b[0m\u001b[0mdf1_mean\u001b[0m\u001b[0;34m)\u001b[0m\u001b[0;34m)\u001b[0m\u001b[0;34m\u001b[0m\u001b[0m\n\u001b[1;32m     14\u001b[0m     \u001b[0mprint\u001b[0m\u001b[0;34m(\u001b[0m\u001b[0;34m'Mean time outside F-pattern: {0:.2f}'\u001b[0m\u001b[0;34m.\u001b[0m\u001b[0mformat\u001b[0m\u001b[0;34m(\u001b[0m\u001b[0mdf2_mean\u001b[0m\u001b[0;34m)\u001b[0m\u001b[0;34m)\u001b[0m\u001b[0;34m\u001b[0m\u001b[0m\n",
      "\u001b[0;31mValueError\u001b[0m: Unknown format code 'f' for object of type 'str'"
     ]
    }
   ],
   "source": [
    "print(' ')\n",
    "f_calc(df1,6, 'QQ English')\n",
    "print(' ')\n",
    "f_calc(df2,6, 'QQ Chinese')"
   ]
  },
  {
   "cell_type": "markdown",
   "metadata": {},
   "source": [
    "Discussion here"
   ]
  },
  {
   "cell_type": "markdown",
   "metadata": {
    "collapsed": true
   },
   "source": [
    "# Sus Analysis"
   ]
  },
  {
   "cell_type": "code",
   "execution_count": null,
   "metadata": {},
   "outputs": [],
   "source": [
    "q_qq_zh_sus.describe()"
   ]
  },
  {
   "cell_type": "code",
   "execution_count": null,
   "metadata": {},
   "outputs": [],
   "source": [
    "q_qq_en_sus.describe()"
   ]
  },
  {
   "cell_type": "code",
   "execution_count": null,
   "metadata": {},
   "outputs": [],
   "source": [
    "q_bbc_zh_sus.describe()"
   ]
  },
  {
   "cell_type": "code",
   "execution_count": null,
   "metadata": {},
   "outputs": [],
   "source": [
    "q_bbc_en_sus.describe()"
   ]
  },
  {
   "cell_type": "code",
   "execution_count": null,
   "metadata": {},
   "outputs": [],
   "source": [
    "\n",
    "print('QQ, Zh sus mean: {0}'.format(calculate_mean(q_qq_zh_sus['Sum'])))\n",
    "print('QQ, En sus mean: {0}'.format(calculate_mean(q_qq_en_sus['Sum'])))\n",
    "print('')\n",
    "\n",
    "print('BBC, Zh sus mean: {0}'.format(calculate_mean(q_bbc_zh_sus['Sum'])))\n",
    "print('BBC, En sus mean: {0}'.format(calculate_mean(q_bbc_en_sus['Sum'])))\n",
    "\n"
   ]
  },
  {
   "cell_type": "code",
   "execution_count": null,
   "metadata": {},
   "outputs": [],
   "source": [
    "sus_bar(q_qq_zh_sus, q_qq_en_sus, q_bbc_zh_sus, q_bbc_en_sus, 'Sus')"
   ]
  },
  {
   "cell_type": "markdown",
   "metadata": {},
   "source": [
    "### Questions:\n",
    "1. I liked the design of the site\n",
    "2. The design of this site was similar too other news sites\n",
    "3. I think that I would like to use this site frequently\n",
    "4. I thought the site was easy to use\n",
    "5. The design of this site was unusual to me\n",
    "6. I thought there was too much inconsistency in this site\n",
    "7. I felt very confident using the site\n",
    "8. I thought the material i was looking for was easy to find\n",
    "9. I found the site very cumbersome to use\n",
    "10. I thought that the amount of information on this site was too sparse\n",
    "11. I felt overwhelmed using this site\n"
   ]
  },
  {
   "cell_type": "markdown",
   "metadata": {},
   "source": [
    "## Sus Conclusion\n",
    "so far.. It seems like the chinese users over all was better at finding information on both sites. Also looking at the sus we can clearly see that chinese people found both sites similary difficult to use. English speakers on the other hand found the chinese inspired QQ site both harder to use and where also disliked the site quite a lot more than the bbc site. It should also be noted that the chinese users had lower correct scores. conitnue....\n"
   ]
  },
  {
   "cell_type": "markdown",
   "metadata": {},
   "source": [
    "## 1. I liked the design of the site\n",
    "Looking at this question we can se that the chinese users thought about the same for both sites:<br/>\n",
    "<br/>\n",
    "Chinise:<br/>\n",
    "QQ: 2.52<br/>\n",
    "BBC: 2.95<br/>\n",
    "The english users on the other hand there could be seen quite a diffrence. The average for the QQ site was quite a lot lower than the average for the bbc page.<br/>\n",
    "<br/>\n",
    "English:<br/>\n",
    "QQ: 1.6<br/>\n",
    "BBC: 2.34<br/>\n",
    "Over all the english speakers had higher requirements for the design of the page and disliked the BBC page more than then Chinese users. This is probobaly beacuse of a higher standard of website design in the west."
   ]
  },
  {
   "cell_type": "markdown",
   "metadata": {},
   "source": [
    "## 2. The design of this site was similar too other news sites\n",
    "With the results from this question we can confirm that we managed to achive our goal of creating a websites that lookes similar to what the people from the diffrent cultures are used to.<br/>\n",
    "\n",
    "Chinese users thought the QQ site looked very similar to what they usally see with a average of 3.9. English users thought this site did not look anything similar to what they usually encounter and had a average as low as 1.96.<br/>\n",
    "\n",
    "Both English and Chinese users was fairly used to the design of the bbc site which makes sense since a lot of western sites are used in china. Their avereges where: Zh 3.2 and En 3.45.\n"
   ]
  },
  {
   "cell_type": "markdown",
   "metadata": {},
   "source": [
    "## 3. I think that I would like to use this site frequently\n",
    "All the diffrent sites except the english QQ users had around the same average on this question.<br/>\n",
    "Zh QQ: 2.19<br/>\n",
    "Zh BBC: 2.33<br/>\n",
    "En BBC: 1.97<br/>\n",
    "\n",
    "The English users that used the QQ sites thought significantly less of the site with a average of 1.33<br/>\n",
    "En QQ: 1.33\n",
    "\n",
    "\n"
   ]
  },
  {
   "cell_type": "markdown",
   "metadata": {},
   "source": [
    "## 4. I thought the site was easy to use\n",
    "The BBC site got a significant higher value for this meaning on average all the users thought the Western news site was easier to use than the chinese counterpart. Chinese users still felt quite okey using the site compaired to their english speaking counterpart.<br/>\n",
    "\n",
    "Zh QQ: 2.48<br/>\n",
    "En QQ: 1.6<br/>\n",
    "Zh BBC: 3.14<br/>\n",
    "En BBC: 2.72<br/>"
   ]
  },
  {
   "cell_type": "markdown",
   "metadata": {},
   "source": [
    "## 5. The design of this site was unusual to me\n",
    "All the users except the english qq site found this site fairly usual.\n",
    "<br/>\n",
    "\n",
    "Zh QQ: 2.71<br/>\n",
    "En QQ: 3.71<br/>\n",
    "Zh BBC: 2.52<br/>\n",
    "En BBC: 2.41<br/>\n"
   ]
  },
  {
   "cell_type": "markdown",
   "metadata": {},
   "source": [
    "## 6. I thought there was too much inconsistency in this site\n",
    "Users generaly thought the BBC site was more consistent than the QQ site with the users thinking that the En version of QQ has the highest inconsitensy. <br/>\n",
    "\n",
    "Zh QQ: 3.1<br/>\n",
    "En QQ: 3.67<br/>\n",
    "Zh BBC: 2.71<br/>\n",
    "En BBC: 2.89<br/>"
   ]
  },
  {
   "cell_type": "markdown",
   "metadata": {},
   "source": [
    "## 7. I felt very confident using the site\n",
    "The confidence levels of the sites were fairly low all under 3. QQ users felt less confident using the site than bbc users did.<br/>\n",
    "\n",
    "Zh QQ: 2.52<br/>\n",
    "En QQ: 2.1<br/>\n",
    "Zh BBC: 2.9<br/>\n",
    "En BBC: 2.76<br/>\n"
   ]
  },
  {
   "cell_type": "markdown",
   "metadata": {},
   "source": [
    "## 8. I thought the material i was looking for was easy to find\n",
    "The chinese users found the material they where looking for easier to find than their english counterparts on both pages. Over all the users found it easier to find material on the BBC page compared to the QQ one. English QQ users found it very hard to find information on the chinese inspired QQ site compared to the BBC site.\n",
    "<br/>\n",
    "\n",
    "Zh QQ: 2.38<br/>\n",
    "En QQ: 1.73<br/>\n",
    "Zh BBC: 2.9<br/>\n",
    "En BBC: 2.48<br/>"
   ]
  },
  {
   "cell_type": "markdown",
   "metadata": {},
   "source": [
    "## 9. I found the site very cumbersome to use\n",
    "Users found the QQ site to be more cumbersome to use than the bbc site. Both Chinese and English BBC users have almost identical results(diffrence of only 0.02 points), meaning people from both diffrent cultures thought the site was equaly hard/easy to use.\n",
    "<br/>\n",
    "\n",
    "Zh QQ: 3.48<br/>\n",
    "En QQ: 3.93<br/>\n",
    "Zh BBC: 3.05<br/>\n",
    "En BBC: 3.07<br/>"
   ]
  },
  {
   "cell_type": "markdown",
   "metadata": {},
   "source": [
    "## 10. I thought that the amount of information on this site was too sparse\n",
    "We can clearly see here that the users seemed to think that there is to much information on the QQ site and a pretty okey amount on the BBC site. Chinese user seem to have a larger tollerance for the amount of information on a page compared to the English speaking users.\n",
    "<br/>\n",
    "\n",
    "Zh QQ: 2.43<br/>\n",
    "En QQ: 2.33<br/>\n",
    "Zh BBC: 2.90<br/>\n",
    "En BBC: 2.69<br/>"
   ]
  },
  {
   "cell_type": "markdown",
   "metadata": {},
   "source": [
    "## 11. I felt overwhelmed using this site\n",
    "We can here see that none of the users except the English QQ users felt overwelmed using this site. This is reasonable since Chinese users are used to this type of format and information density in webpages. For the English users using the QQ website the information density became a bit of a chock.\n",
    "<br/>\n",
    "\n",
    "Zh QQ: 2.8<br/>\n",
    "En QQ: 4.23<br/>\n",
    "Zh BBC: 2.71<br/>\n",
    "En BBC: 2.76<br/>"
   ]
  },
  {
   "cell_type": "markdown",
   "metadata": {},
   "source": [
    "## Calculating a score for the Sus\n",
    "We calculate a Sum value for the Sus question this to make it easier to compare the diffrent models to each other and how well liked they are. The score will have a range between 0-10 where 10 is the heighest score a page can get and 0 the lowest. <br/>\n",
    "\n",
    "To calculate this score we firstly remove the second question \"The design of this site was similar too other news sites\". This question has neither a positive or negative implication for the website and was made to see if the website were designed acording to the correct cultural criterias. <br/>\n",
    "\n",
    "We then divide the questions into two groups. Question where a high score has a positive implication for the website ex: \"I thought the site was easy to use\". And questions where a high score has a negative implication, ex: \"I found the site very cumbersome to use\". <br/>\n",
    "\n",
    "The positive questions are: 1,3,4,7,8.\n",
    "\n",
    "The negative questions are: 5,6,9,10,11.\n",
    "\n",
    "Question 6 is a special case where we first have to recalculate the values. This is done beacuse of the nature of the question: \"I thought that the amount of information on this site was too sparse\". A high value on this question is a negative answer and so is a low value. The most positive answer you can give on this question is 3. We recalculate the value using the following function: 2*abs(3-value)+1. This will give us the value 1 in case of value = 3 and 5 in the case of value = 1 or 5.\n",
    "\n",
    "We then sum up the possitive averages and take then minus the negative sum. This value is then scaled from a range of -20 to 20. To a range of 0-10 instead. This is done by using the following formula: score = (value+20)/4. \n",
    "\n"
   ]
  },
  {
   "cell_type": "code",
   "execution_count": null,
   "metadata": {
    "collapsed": true
   },
   "outputs": [],
   "source": [
    "def calc_sus_score(df):\n",
    "    pos = df['Question1'].mean() + df['Question3'].mean() + df['Question4'].mean()+ df['Question7'].mean() + df['Question8'].mean()\n",
    "    neg = df['Question5'].mean() + df['Question6'].mean() + df['Question9'].mean() + ((2)*np.abs(3-df['Question10'].mean())+1) + df['Question11'].mean()\n",
    "\n",
    "    score = pos-neg\n",
    "    score = (score+20)/4\n",
    "    \n",
    "    return score"
   ]
  },
  {
   "cell_type": "code",
   "execution_count": null,
   "metadata": {},
   "outputs": [],
   "source": [
    "print('Below we can see a calculated score that has been scaled between 0-10. \\nWhere 0 is the lowest score and 10 is the highest.\\n')\n",
    "print('QQ Zh score: {0:.2f}'.format(calc_sus_score(q_qq_zh_sus)))\n",
    "print('QQ En score: {0:.2f}'.format(calc_sus_score(q_qq_en_sus)))\n",
    "print('BBC Zh score: {0:.2f}'.format(calc_sus_score(q_bbc_zh_sus)))\n",
    "print('BBC En score: {0:.2f}'.format(calc_sus_score(q_bbc_en_sus)))"
   ]
  },
  {
   "cell_type": "markdown",
   "metadata": {},
   "source": [
    "## Conclusion Sus\n",
    "Looking at all of the sus data we can conclude a few diffrent things: (should probobly add some significance calculations for this...)\n",
    "\n",
    "* The BBC site was overall more well liked than the QQ site. We can see that this is correct for both diffrent cultures. The BBC site acctually recived the over all highest ratings from the chinese users. <br/><br/>  \n",
    "\n",
    "* Chinese users are more tollerant and used to the QQ site than english users. English users do not at all like or feel comfortable with information dense websites. The rating of the English speaking QQ users is about 60% lower than the chinse users score.<br/> <br/> \n",
    "\n",
    "* Even if Chinese users are quite a lot more tollerant towards information dense websites they still prefered the non information dense website even if they where more used to the design of the QQ than the BBC site. This might just be to bbc being better designed but if we look at the diffrence in score between the English and Chinese users we can clearly se that the diffrence is to large for just beeing a design diffrence factor. Chinese users had a average of 2.52 for the likability of the QQ design and a 2.95 for the BBC site. This is only a factor of 0.43. Despite this te site got a total score of 4.46 compared to the BBC site wich got 5.51 from the chinese users. etc...\n",
    "\n",
    "* These results might indicate that the prefrence of high information densitiy in chinese websites might be beacuse of a old trend that users have become used to. (move to theory?)Beacuse of historically low internet speeds beacuse of great firewall of china and a previus lack of infrastructure needed to support highspeed transfers. Chinas webdeveloper had to addapt to these conditions by increasing the amount of information for a page and making it so each clickable link opens the new page in a seperate tab, this so the previus page does not have to be reloaded. The sus results might indicate that this model is a outdated trend that is on it's way out (this can espacially be seen in the more minimalistic designed mobile applications). Simply put good design is universal, but since the history of the chinese web chinese users are quite a lot more tollerant towards information dense websites.\n",
    "\n",
    "\n",
    "\n",
    "(conclusion for later: That beeing said when designing a website that is not beeing hosted in china a webdesigner should make sure design the site around the knowlege that it will take a lot longer to load the site compared to in the rest of the world.)"
   ]
  },
  {
   "cell_type": "markdown",
   "metadata": {
    "collapsed": true
   },
   "source": [
    "# Stuff that does not seem to be needed anymore...."
   ]
  },
  {
   "cell_type": "code",
   "execution_count": null,
   "metadata": {
    "collapsed": true
   },
   "outputs": [],
   "source": [
    "\n",
    "q_text_id_qq_en_correct = dict()\n",
    "q_text_id_qq_zh_correct = dict()\n",
    "q_text_id_bbc_en_correct = dict()\n",
    "q_text_id_bbc_zh_correct = dict()\n",
    "\n",
    "q_text_id_qq_en_time = dict()\n",
    "q_text_id_qq_zh_time = dict()\n",
    "q_text_id_bbc_en_time = dict()\n",
    "q_text_id_bbc_zh_time = dict()\n",
    "\n",
    "for i in range(1,27):\n",
    "    if(i%2==1):\n",
    "        q_text_id_qq_en_correct[i] = 0\n",
    "        q_text_id_qq_en_time[i] = 0\n",
    "    else:\n",
    "        q_text_id_qq_zh_correct[i] = 0\n",
    "        q_text_id_qq_zh_time[i] = 0\n",
    "        \n",
    "for i in range(27,53):\n",
    "    if(i%2==1):\n",
    "        q_text_id_bbc_en_correct[i] = 0\n",
    "        q_text_id_bbc_en_time[i] = 0\n",
    "    else:\n",
    "        q_text_id_bbc_zh_correct[i] = 0\n",
    "        q_text_id_bbc_zh_time[i] = 0"
   ]
  },
  {
   "cell_type": "code",
   "execution_count": null,
   "metadata": {},
   "outputs": [],
   "source": [
    "bbc_zh_length = 0\n",
    "bbc_en_length = 0\n",
    "qq_zh_length = 0\n",
    "qq_en_length = 0\n",
    "\n",
    "#Data needs to be cleaned\n",
    "\n",
    "#question number 13 for qq does not seem to work either\n",
    "for i in q_bbc_en.values:\n",
    "    if(actions.loc[actions['QuestionsId'] == int(i[2])]['ScreenWidth'].item() > 1000):\n",
    "        q_text_id_bbc_en_correct[(i[2])] += int(i[3])\n",
    "        if(int(i[3])==1 and i[6] < 400):\n",
    "            q_text_id_bbc_en_time[(i[2])] += int(i[6])\n",
    "        bbc_en_length += 1\n",
    "    \n",
    "for i in q_bbc_zh.values:\n",
    "    if(actions.loc[actions['QuestionsId'] == int(i[2])]['ScreenWidth'].item() > 1000):\n",
    "        bbc_zh_length += 1\n",
    "        q_text_id_bbc_zh_correct[(i[2])] += int(i[3])\n",
    "        if(int(i[3])==1 and i[6] < 400):\n",
    "            q_text_id_bbc_zh_time[(i[2])] += int(i[6])\n",
    "    \n",
    "for i in q_qq_en.values:\n",
    "    if(actions.loc[actions['QuestionsId'] == int(i[2])]['ScreenWidth'].item() > 1000):\n",
    "        qq_en_length += 1\n",
    "        if int(i[2]) is 23:\n",
    "            q_text_id_qq_en_correct[(i[2])] += 1\n",
    "            if(i[6] < 400):\n",
    "                q_text_id_qq_en_time[(i[2])] += int(i[6])\n",
    "        q_text_id_qq_en_correct[(i[2])] += int(i[3])\n",
    "        if(int(i[3])==1 and i[6] < 400):\n",
    "            q_text_id_qq_en_time[(i[2])] += int(i[6])\n",
    "    \n",
    "for i in q_qq_zh.values:\n",
    "    if(actions.loc[actions['QuestionsId'] == int(i[2])]['ScreenWidth'].item() > 1000):\n",
    "        qq_zh_length += 1\n",
    "        q_text_id_qq_zh_correct[(i[2])] += int(i[3])\n",
    "        if(int(i[3])==1 and i[6] < 400):\n",
    "            q_text_id_qq_zh_time[(i[2])] += int(i[6])\n",
    "    \n",
    "bbc_zh_length = bbc_zh_length/13\n",
    "bbc_en_length = bbc_en_length/13\n",
    "qq_zh_length = qq_zh_length/13\n",
    "qq_en_length = qq_en_length/13\n",
    "\n",
    "print(' ')\n",
    "print('BBC number of replies, en: {0}'.format(bbc_en_length))\n",
    "print('BBC number of replies, zh: {0}'.format(bbc_zh_length))\n",
    "print('QQ number of replies, en: {0}'.format(qq_en_length))\n",
    "print('QQ number of replies, zh: {0}'.format(qq_zh_length))"
   ]
  },
  {
   "cell_type": "code",
   "execution_count": null,
   "metadata": {},
   "outputs": [],
   "source": [
    "bbc_labels = ['1F', '2F', '3F', '4F', '5F', '6', '7F','8','9F','10','11F', '12', '13F']\n",
    "qq_labels = ['1F', '2', '3F', '4', '5F', '6', '7F','8','9','10','11F', '12F', '13']\n",
    "show_bar_chart([val/bbc_en_length for val in q_text_id_bbc_en_correct.values()],\n",
    "               [val/bbc_zh_length for val in q_text_id_bbc_zh_correct.values()], bbc_labels, 'BBC Correct')\n",
    "show_bar_chart([val/qq_en_length for val in q_text_id_qq_en_correct.values()],\n",
    "               [val/qq_zh_length for val in q_text_id_qq_zh_correct.values()], qq_labels, 'QQ Correct')\n",
    "\n",
    "show_bar_chart([val/bbc_en_length for val in q_text_id_bbc_en_time.values()],\n",
    "               [val/bbc_zh_length for val in q_text_id_bbc_zh_time.values()], bbc_labels, 'BBC Mean Time')\n",
    "show_bar_chart([val/qq_en_length for val in q_text_id_qq_en_time.values()],\n",
    "               [val/qq_zh_length for val in q_text_id_qq_zh_time.values()], qq_labels, 'QQ Mean Time')\n",
    "print('Correct answers')\n",
    "print('BBC en: {0:.0%}'.format(sum(q_text_id_bbc_en_correct.values())/(bbc_en_length*13)))\n",
    "print('BBC zh: {0:.0%}'.format(sum(q_text_id_bbc_zh_correct.values())/(13*bbc_zh_length)))\n",
    "print('\\nQQ en:  {0:.0%}'.format(sum(q_text_id_qq_en_correct.values())/(13*qq_en_length)))\n",
    "print('QQ zh:  {0:.0%}'.format(sum(q_text_id_qq_zh_correct.values())/(13*qq_zh_length)))\n",
    "\n",
    "print('\\nMean times for correct answers')\n",
    "print(q_bbc_en['Time'].sum()/len(q_bbc_en.groupby(\"MainId\")))\n",
    "print(q_bbc_zh['Time'].sum()/len(q_bbc_zh.groupby(\"MainId\")))\n",
    "print(len(q_qq_en.groupby(\"QuestionId\")))\n",
    "print(qq_en_length)\n",
    "\n",
    "print('BBC mean time en: {0:.2f}'.format(sum([val/bbc_en_length for val in q_text_id_bbc_en_time.values()])))\n",
    "print('BBC mean time zh: {0:.2f}'.format(sum([val/bbc_zh_length for val in q_text_id_bbc_zh_time.values()])))\n",
    "print('\\nQQ mean time en:  {0:.2f}'.format(sum([val/qq_en_length for val in q_text_id_qq_en_time.values()])))\n",
    "print('QQ mean time zh:  {0:.2f}'.format(sum([val/qq_zh_length for val in q_text_id_qq_zh_time.values()])))\n",
    "\n",
    "\n",
    "# Add % of correct results maby in a circle graph"
   ]
  }
 ],
 "metadata": {
  "kernelspec": {
   "display_name": "Python 3",
   "language": "python",
   "name": "python3"
  },
  "language_info": {
   "codemirror_mode": {
    "name": "ipython",
    "version": 3
   },
   "file_extension": ".py",
   "mimetype": "text/x-python",
   "name": "python",
   "nbconvert_exporter": "python",
   "pygments_lexer": "ipython3",
   "version": "3.6.3"
  }
 },
 "nbformat": 4,
 "nbformat_minor": 2
}
