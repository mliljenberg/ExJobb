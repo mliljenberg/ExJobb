{
 "cells": [
  {
   "cell_type": "code",
   "execution_count": 1,
   "metadata": {
    "collapsed": true
   },
   "outputs": [],
   "source": [
    "# Standard imports\n",
    "import numpy as np\n",
    "import pandas as pd\n",
    "import matplotlib.pyplot as plt\n",
    "import seaborn as sns"
   ]
  },
  {
   "cell_type": "markdown",
   "metadata": {},
   "source": [
    "# Data\n",
    "Here we can se the data we have and it consists of 4 diffrent list with tupples. 2 for qq and 2 for bbc. We can also see that there where 2 fewer participants in the qq tests compared to the bbc ones."
   ]
  },
  {
   "cell_type": "code",
   "execution_count": 2,
   "metadata": {
    "collapsed": true
   },
   "outputs": [],
   "source": [
    "bbc_zh= [{16,4,9},\n",
    "{10,6,18},\n",
    "{11,6,14},\n",
    "{4,17,7},\n",
    "{60,13},\n",
    "{19,51},\n",
    "{0},\n",
    "{42,37,43},\n",
    "{9,11,8},\n",
    "{4,7,16},\n",
    "{5,25,12}]\n",
    "\n",
    "bbc_zh_failed = [\n",
    "    0,\n",
    "    0,\n",
    "    0,\n",
    "    0,\n",
    "    1,\n",
    "    1,\n",
    "    3,\n",
    "    0,\n",
    "    0,\n",
    "    0,\n",
    "    0\n",
    "]\n",
    "bbc_eng_failed = [\n",
    "    0,\n",
    "    0,\n",
    "    0,\n",
    "    0,\n",
    "    0,\n",
    "    0,\n",
    "    3,\n",
    "    0,\n",
    "    0,\n",
    "    0,\n",
    "    0,\n",
    "]\n",
    "\n",
    "    \n",
    "\n",
    "\n",
    "bbc_eng = [{9,13,11},\n",
    "{20,6,10},\n",
    "{12,24,13},\n",
    "{8,6,16},\n",
    "{45,11,14},\n",
    "{11,15,14},\n",
    "{0},\n",
    "{11,50,25},\n",
    "{10,12,10},\n",
    "{10,7,7},\n",
    "{10,10,7}]\n",
    "\n",
    "qq_zh = [\n",
    "{9,44},\n",
    "{41,9},\n",
    "{0,0},\n",
    "{39,30},\n",
    "{6,4},\n",
    "{18,12},\n",
    "{6,14},\n",
    "{7,18},\n",
    "{3,12},\n",
    "{5,4},\n",
    "{6,6},\n",
    "{4,5}\n",
    "]\n",
    "\n",
    "qq_zh_failed = [\n",
    "    0,\n",
    "    0,\n",
    "    2,\n",
    "    0,\n",
    "    0,\n",
    "    0,\n",
    "    0,\n",
    "    0,\n",
    "    0,\n",
    "    0,\n",
    "    0,\n",
    "    0,\n",
    "]\n",
    "\n",
    "qq_eng = [\n",
    "{12,13},\n",
    "{2,6},\n",
    "{46,80},\n",
    "{30,3},\n",
    "{9,5},\n",
    "{37,24},\n",
    "{8,14},\n",
    "{10,10},\n",
    "{5,3},\n",
    "{11,6},\n",
    "{6,3},\n",
    "{15,13},\n",
    "]\n",
    "qq_eng_failed = [\n",
    "    0,\n",
    "    0,\n",
    "    0,\n",
    "    0,\n",
    "    0,\n",
    "    0,\n",
    "    0,\n",
    "    0,\n",
    "    0,\n",
    "    0,\n",
    "    0,\n",
    "    0,\n",
    "]\n"
   ]
  },
  {
   "cell_type": "code",
   "execution_count": 3,
   "metadata": {
    "collapsed": true
   },
   "outputs": [],
   "source": [
    "def calculate_mean(list):\n",
    "    mean_list = []\n",
    "    for i in list:\n",
    "        mean_list.append(sum(i)/len(i))\n",
    "    \n",
    "    return mean_list"
   ]
  },
  {
   "cell_type": "code",
   "execution_count": 4,
   "metadata": {
    "collapsed": true
   },
   "outputs": [],
   "source": [
    "mean_bbc_eng = calculate_mean(bbc_eng)\n",
    "mean_bbc_zh = calculate_mean(bbc_zh)\n",
    "mean_qq_eng = calculate_mean(qq_eng)\n",
    "mean_qq_zh = calculate_mean(qq_zh)\n"
   ]
  },
  {
   "cell_type": "code",
   "execution_count": 5,
   "metadata": {
    "collapsed": true
   },
   "outputs": [],
   "source": [
    "def show_bar_chart(values1,values2, labels,title):\n",
    "    import matplotlib.pyplot as plt\n",
    "    \n",
    "    fig, ax = plt.subplots()\n",
    "    bar_width = 0.35\n",
    "    opacity = 0.8\n",
    "    plt.bar(np.arange(len(values1))-bar_width/2, values1, bar_width, alpha=opacity,label='English')\n",
    "    plt.bar(np.arange(len(values1))+bar_width/2, values2, bar_width, alpha=opacity,label='Chinese')\n",
    "    plt.xticks(np.arange(len(values1)), labels)\n",
    "    plt.title(title)\n",
    "    plt.legend()\n",
    "\n",
    "    plt.show()\n",
    "    \n",
    "    return"
   ]
  },
  {
   "cell_type": "markdown",
   "metadata": {},
   "source": [
    "# BBC"
   ]
  },
  {
   "cell_type": "code",
   "execution_count": 6,
   "metadata": {},
   "outputs": [
    {
     "data": {
      "image/png": "[encoded data removed]",
      "text/plain": [
       "<matplotlib.figure.Figure at 0x1a16a2f048>"
      ]
     },
     "metadata": {},
     "output_type": "display_data"
    },
    {
     "data": {
      "image/png": "[encoded data removed]",
      "text/plain": [
       "<matplotlib.figure.Figure at 0x1a1e2aed68>"
      ]
     },
     "metadata": {},
     "output_type": "display_data"
    }
   ],
   "source": [
    "\n",
    "length = len(mean_bbc_eng)+1\n",
    "labels_bbc = list(range(1, length))\n",
    "show_bar_chart(mean_bbc_eng,mean_bbc_zh,labels_bbc,'BBC Mean Time Diffrence')\n",
    "show_bar_chart(bbc_eng_failed,bbc_zh_failed,labels_bbc,'BBC Failed questions')\n",
    "\n",
    "\n",
    "\n"
   ]
  },
  {
   "cell_type": "markdown",
   "metadata": {},
   "source": [
    "* Questions: 0-3 is about looking exactly for a specific sentence.\n",
    "* Questions: 4-7 is about looking for a more general news.\n",
    "* Question: 8-10 is about menu\n",
    "\n",
    "\n",
    "* Questions: 0,1,4 are located on the left hand side.\n",
    "* Questions: 3, 5, 7 are located in the center.\n",
    "* Questions: 2,6 are located on the right hand side."
   ]
  },
  {
   "cell_type": "code",
   "execution_count": 7,
   "metadata": {
    "scrolled": true
   },
   "outputs": [
    {
     "name": "stdout",
     "output_type": "stream",
     "text": [
      "142.66666666666666\n",
      "185.16666666666669\n"
     ]
    }
   ],
   "source": [
    "print(sum(mean_bbc_eng))\n",
    "print(sum(mean_bbc_zh))"
   ]
  },
  {
   "cell_type": "markdown",
   "metadata": {},
   "source": [
    "# QQ"
   ]
  },
  {
   "cell_type": "code",
   "execution_count": 8,
   "metadata": {},
   "outputs": [
    {
     "data": {
      "image/png": "[encoded data removed]",
      "text/plain": [
       "<matplotlib.figure.Figure at 0x1a1e3a5438>"
      ]
     },
     "metadata": {},
     "output_type": "display_data"
    },
    {
     "data": {
      "image/png": "[encoded data removed]",
      "text/plain": [
       "<matplotlib.figure.Figure at 0x1a1e3a59e8>"
      ]
     },
     "metadata": {},
     "output_type": "display_data"
    }
   ],
   "source": [
    "length = len(mean_qq_eng)+1\n",
    "labels_qq = list(range(1, length))\n",
    "\n",
    "show_bar_chart(mean_qq_eng,mean_qq_zh,labels_qq,'QQ Mean Time Diffrence')\n",
    "show_bar_chart(qq_eng_failed,qq_zh_failed,labels_qq,'QQ Failed questions')"
   ]
  },
  {
   "cell_type": "markdown",
   "metadata": {},
   "source": [
    "* Questions: 4,6 are about finding a picture\n",
    "* Questions: 8-11 is about finding things in the menu\n",
    "\n",
    "\n",
    "* Questions: 0,2,5 are located on the left hand side.\n",
    "* Questions: 7 are located in the center.\n",
    "* Questions: 1,3,4,6 are located on the right hand side."
   ]
  },
  {
   "cell_type": "code",
   "execution_count": 9,
   "metadata": {},
   "outputs": [
    {
     "name": "stdout",
     "output_type": "stream",
     "text": [
      "122.5\n",
      "151.0\n"
     ]
    }
   ],
   "source": [
    "mean_qq_eng.pop(2)\n",
    "print(sum(mean_qq_eng))\n",
    "print(sum(mean_qq_zh))"
   ]
  },
  {
   "cell_type": "markdown",
   "metadata": {},
   "source": [
    "# Limitations\n",
    "There are a few limitations of this pilotstudy the first and most important one is the lack of participants. This study was conducted more to test the questions and the methodogy of the actual later tests than to gain any insigt into the results. Also some questions did not test what they were supposed to test since the news segment appeared on two places instead of just one."
   ]
  }
 ],
 "metadata": {
  "kernelspec": {
   "display_name": "Python 3",
   "language": "python",
   "name": "python3"
  },
  "language_info": {
   "codemirror_mode": {
    "name": "ipython",
    "version": 3
   },
   "file_extension": ".py",
   "mimetype": "text/x-python",
   "name": "python",
   "nbconvert_exporter": "python",
   "pygments_lexer": "ipython3",
   "version": "3.6.3"
  }
 },
 "nbformat": 4,
 "nbformat_minor": 2
}
