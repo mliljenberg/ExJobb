{
 "cells": [
  {
   "cell_type": "code",
   "execution_count": 71,
   "metadata": {
    "collapsed": true
   },
   "outputs": [],
   "source": [
    "# Standard imports\n",
    "import numpy as np\n",
    "import pandas as pd\n",
    "import matplotlib.pyplot as plt\n",
    "import seaborn as sns\n",
    "import matplotlib.pyplot as plt"
   ]
  },
  {
   "cell_type": "code",
   "execution_count": 48,
   "metadata": {
    "collapsed": true
   },
   "outputs": [],
   "source": [
    "def mean_calc(df):\n",
    "    mean_list = []\n",
    "    for i in range(0,11):\n",
    "        mean_list.append(calculate_mean(df.iloc[:,2:13].values[:,i]))\n",
    "    return mean_list"
   ]
  },
  {
   "cell_type": "code",
   "execution_count": 76,
   "metadata": {
    "collapsed": true
   },
   "outputs": [],
   "source": [
    "def normal_bar(values1,labels,title):\n",
    "    fig, ax = plt.subplots()\n",
    "    bar_width = 0.35\n",
    "    opacity = 0.8\n",
    "    plt.bar(np.arange(len(values1)), values1, bar_width, alpha=opacity)\n",
    "    plt.xticks(np.arange(len(values1)), labels)\n",
    "    plt.title(title)\n",
    "    plt.legend()\n",
    "    plt.show()\n",
    "    return\n",
    "    "
   ]
  },
  {
   "cell_type": "code",
   "execution_count": 36,
   "metadata": {},
   "outputs": [],
   "source": [
    "def sus_bar(df1,df2,df3,df4, title):\n",
    "    '''\n",
    "    labels = ['I liked the design of the site',\n",
    "              'The design of this site was similar too other news sites',\n",
    "              'I think that I would like to use this site frequently',\n",
    "              'I thought the site was easy to use',\n",
    "              'The design of this site was unusual to me',\n",
    "              'I thought there was too much inconsistency in this site',\n",
    "              'I felt very confident using the site',\n",
    "              'I thought the material i was looking for was easy to find',\n",
    "              'I found the site very cumbersome to use',\n",
    "              'I thought that the amount of information on this site was too sparse',\n",
    "              'I felt overwhelmed using this site']\n",
    "    '''\n",
    "    labels = range(1,12)\n",
    "    mean_list1 = mean_calc(df1)\n",
    "    mean_list2 = mean_calc(df2)\n",
    "    mean_list3 = mean_calc(df3)\n",
    "    mean_list4 = mean_calc(df4)\n",
    "    \n",
    "    bar_width = 0.2\n",
    "    opacity = 0.8\n",
    "    plt.figure(figsize=(30, 15))\n",
    "    plt.bar(np.arange(len(mean_list1))-(bar_width+bar_width/2), mean_list1, bar_width, alpha=opacity, label='QQ, zh')\n",
    "    plt.bar(np.arange(len(mean_list2))-bar_width/2, mean_list2, bar_width, alpha=opacity, label='QQ, En')\n",
    "    plt.bar(np.arange(len(mean_list3))+bar_width/2, mean_list3, bar_width, alpha=opacity, label='BBC, Zh')\n",
    "    plt.bar(np.arange(len(mean_list4))+(bar_width+bar_width/2), mean_list4, bar_width, alpha=opacity, label='BBC, En')\n",
    "    plt.xticks(np.arange(len(mean_list1)), labels)\n",
    "    plt.autoscale(tight=False)\n",
    "    plt.title(title)\n",
    "    plt.legend()\n",
    "    plt.show()\n",
    "    return\n"
   ]
  },
  {
   "cell_type": "code",
   "execution_count": 4,
   "metadata": {
    "collapsed": true
   },
   "outputs": [],
   "source": [
    "def show_bar_chart(values1,values2, labels,title):\n",
    "    \n",
    "    fig, ax = plt.subplots()\n",
    "    bar_width = 0.35\n",
    "    opacity = 0.8\n",
    "    plt.bar(np.arange(len(values1))-bar_width/2, values1, bar_width, alpha=opacity,label='English')\n",
    "    plt.bar(np.arange(len(values1))+bar_width/2, values2, bar_width, alpha=opacity,label='Chinese')\n",
    "    plt.xticks(np.arange(len(values1)), labels)\n",
    "    plt.title(title)\n",
    "    plt.legend()\n",
    "    plt.show()\n",
    "    return"
   ]
  },
  {
   "cell_type": "code",
   "execution_count": 5,
   "metadata": {
    "collapsed": true
   },
   "outputs": [],
   "source": [
    "def calculate_mean(alist):\n",
    "    value = sum(alist)/len(alist)\n",
    "    \n",
    "    return value"
   ]
  },
  {
   "cell_type": "markdown",
   "metadata": {},
   "source": [
    "# Data\n",
    "Stuff here\n"
   ]
  },
  {
   "cell_type": "code",
   "execution_count": 6,
   "metadata": {
    "collapsed": true
   },
   "outputs": [],
   "source": [
    "q_bbc_en = pd.read_csv('/Users/marcusliljenberg/Documents/ExJobb/Data/finished/questions_main_bbc_en.csv')\n",
    "q_qq_en = pd.read_csv('/Users/marcusliljenberg/Documents/ExJobb/Data/finished/questions_main_qq_en.csv')\n",
    "q_bbc_zh = pd.read_csv('/Users/marcusliljenberg/Documents/ExJobb/Data/finished/questions_main_bbc_zh.csv')\n",
    "q_qq_zh = pd.read_csv('/Users/marcusliljenberg/Documents/ExJobb/Data/finished/questions_main_qq_zh.csv')\n",
    "actions = pd.read_csv('/Users/marcusliljenberg/Documents/ExJobb/Data/finished/actions.csv')"
   ]
  },
  {
   "cell_type": "code",
   "execution_count": 25,
   "metadata": {
    "collapsed": true
   },
   "outputs": [],
   "source": [
    "import MySQLdb\n",
    "\n",
    "mysql_cn= MySQLdb.connect(host='aa1fk59xwsw9wmv.cg05xtnsvhwq.ap-northeast-2.rds.amazonaws.com', \n",
    "                port=3306,user='Marcus', passwd='marcusl36', \n",
    "                db='ebdb')\n",
    "q_bbc_en = pd.read_sql('SELECT Questions.*, Main.*, QuestionText.FPattern FROM Questions Join Main ON Questions.MainId = Main.id Join QuestionText ON Questions.QuestionId = QuestionText.id where Age < 70  and Main.Site = \"bbc\" and Main.Language = \"en\";', con=mysql_cn)  \n",
    "q_bbc_zh = pd.read_sql('SELECT Questions.*, Main.*, QuestionText.FPattern FROM Questions Join Main ON Questions.MainId = Main.id Join QuestionText ON Questions.QuestionId = QuestionText.id where Age < 70  and Main.Site = \"bbc\" and Main.Language = \"zh\";', con=mysql_cn)  \n",
    "q_qq_en = pd.read_sql('SELECT Questions.*, Main.*, QuestionText.FPattern FROM Questions Join Main ON Questions.MainId = Main.id Join QuestionText ON Questions.QuestionId = QuestionText.id where Age < 70  and Main.Site = \"qq\" and Main.Language = \"en\";', con=mysql_cn)  \n",
    "q_qq_zh = pd.read_sql('SELECT Questions.*, Main.*, QuestionText.FPattern FROM Questions Join Main ON Questions.MainId = Main.id Join QuestionText ON Questions.QuestionId = QuestionText.id where Age < 70  and Main.Site = \"qq\" and Main.Language = \"zh\";', con=mysql_cn)  \n",
    "\n",
    "q_qq_zh_sus = pd.read_sql(\"SELECT Sus.*, Main.* FROM Sus Join Main ON Sus.MainId = Main.id  where Age < 70 and Site = 'qq' and Language = 'zh';\", con=mysql_cn)  \n",
    "q_qq_en_sus = pd.read_sql(\"SELECT Sus.*, Main.* FROM Sus Join Main ON Sus.MainId = Main.id  where Age < 70 and Site = 'qq' and Language = 'en';\", con=mysql_cn)  \n",
    "q_bbc_en_sus = pd.read_sql(\"SELECT Sus.*, Main.* FROM Sus Join Main ON Sus.MainId = Main.id  where Age < 70 and Site = 'bbc' and Language = 'en';\", con=mysql_cn)  \n",
    "q_bbc_zh_sus = pd.read_sql(\"SELECT Sus.*, Main.* FROM Sus Join Main ON Sus.MainId = Main.id  where Age < 70 and Site = 'bbc' and Language = 'zh';\", con=mysql_cn)  \n",
    "\n",
    "mysql_cn.close()"
   ]
  },
  {
   "cell_type": "code",
   "execution_count": 31,
   "metadata": {},
   "outputs": [],
   "source": [
    "mysql_cn= MySQLdb.connect(host='aa1fk59xwsw9wmv.cg05xtnsvhwq.ap-northeast-2.rds.amazonaws.com', \n",
    "                port=3306,user='Marcus', passwd='marcusl36', \n",
    "                db='ebdb')\n",
    "\n",
    "users = pd.read_sql(\"SELECT Sus.Id, Main.Age, Main.Gender, Main.Site, Main.Language FROM Sus Join Main ON Sus.MainId = Main.id  where Age < 70;\", con=mysql_cn)\n",
    "male_users = pd.read_sql(\"SELECT Sus.Id, Main.Age, Main.Gender, Main.Site, Main.Language FROM Sus Join Main ON Sus.MainId = Main.id  where Age < 70 and Gender = 0;\", con=mysql_cn)\n",
    "mysql_cn.close()"
   ]
  },
  {
   "cell_type": "code",
   "execution_count": 96,
   "metadata": {},
   "outputs": [
    {
     "data": {
      "text/html": [
       "<div>\n",
       "<style>\n",
       "    .dataframe thead tr:only-child th {\n",
       "        text-align: right;\n",
       "    }\n",
       "\n",
       "    .dataframe thead th {\n",
       "        text-align: left;\n",
       "    }\n",
       "\n",
       "    .dataframe tbody tr th {\n",
       "        vertical-align: top;\n",
       "    }\n",
       "</style>\n",
       "<table border=\"1\" class=\"dataframe\">\n",
       "  <thead>\n",
       "    <tr style=\"text-align: right;\">\n",
       "      <th></th>\n",
       "      <th>Correct</th>\n",
       "      <th>Time</th>\n",
       "      <th>Gender</th>\n",
       "    </tr>\n",
       "  </thead>\n",
       "  <tbody>\n",
       "    <tr>\n",
       "      <th>count</th>\n",
       "      <td>390.000000</td>\n",
       "      <td>390.000000</td>\n",
       "      <td>390.000000</td>\n",
       "    </tr>\n",
       "    <tr>\n",
       "      <th>mean</th>\n",
       "      <td>0.846154</td>\n",
       "      <td>24.456410</td>\n",
       "      <td>0.200000</td>\n",
       "    </tr>\n",
       "    <tr>\n",
       "      <th>std</th>\n",
       "      <td>0.361265</td>\n",
       "      <td>52.279326</td>\n",
       "      <td>0.400514</td>\n",
       "    </tr>\n",
       "    <tr>\n",
       "      <th>min</th>\n",
       "      <td>0.000000</td>\n",
       "      <td>-1.000000</td>\n",
       "      <td>0.000000</td>\n",
       "    </tr>\n",
       "    <tr>\n",
       "      <th>25%</th>\n",
       "      <td>1.000000</td>\n",
       "      <td>7.000000</td>\n",
       "      <td>0.000000</td>\n",
       "    </tr>\n",
       "    <tr>\n",
       "      <th>50%</th>\n",
       "      <td>1.000000</td>\n",
       "      <td>13.000000</td>\n",
       "      <td>0.000000</td>\n",
       "    </tr>\n",
       "    <tr>\n",
       "      <th>75%</th>\n",
       "      <td>1.000000</td>\n",
       "      <td>28.000000</td>\n",
       "      <td>0.000000</td>\n",
       "    </tr>\n",
       "    <tr>\n",
       "      <th>max</th>\n",
       "      <td>1.000000</td>\n",
       "      <td>925.000000</td>\n",
       "      <td>1.000000</td>\n",
       "    </tr>\n",
       "  </tbody>\n",
       "</table>\n",
       "</div>"
      ],
      "text/plain": [
       "          Correct        Time      Gender\n",
       "count  390.000000  390.000000  390.000000\n",
       "mean     0.846154   24.456410    0.200000\n",
       "std      0.361265   52.279326    0.400514\n",
       "min      0.000000   -1.000000    0.000000\n",
       "25%      1.000000    7.000000    0.000000\n",
       "50%      1.000000   13.000000    0.000000\n",
       "75%      1.000000   28.000000    0.000000\n",
       "max      1.000000  925.000000    1.000000"
      ]
     },
     "execution_count": 96,
     "metadata": {},
     "output_type": "execute_result"
    }
   ],
   "source": [
    "desc = q_bbc_en.drop(['StartTime', 'EndTime','Id','QuestionId','MainId','Age','FPattern'], axis=1)\n",
    "desc.describe()"
   ]
  },
  {
   "cell_type": "code",
   "execution_count": 97,
   "metadata": {},
   "outputs": [
    {
     "data": {
      "text/html": [
       "<div>\n",
       "<style>\n",
       "    .dataframe thead tr:only-child th {\n",
       "        text-align: right;\n",
       "    }\n",
       "\n",
       "    .dataframe thead th {\n",
       "        text-align: left;\n",
       "    }\n",
       "\n",
       "    .dataframe tbody tr th {\n",
       "        vertical-align: top;\n",
       "    }\n",
       "</style>\n",
       "<table border=\"1\" class=\"dataframe\">\n",
       "  <thead>\n",
       "    <tr style=\"text-align: right;\">\n",
       "      <th></th>\n",
       "      <th>Correct</th>\n",
       "      <th>Time</th>\n",
       "      <th>Gender</th>\n",
       "    </tr>\n",
       "  </thead>\n",
       "  <tbody>\n",
       "    <tr>\n",
       "      <th>count</th>\n",
       "      <td>351.000000</td>\n",
       "      <td>351.000000</td>\n",
       "      <td>351.000000</td>\n",
       "    </tr>\n",
       "    <tr>\n",
       "      <th>mean</th>\n",
       "      <td>0.660969</td>\n",
       "      <td>22.353276</td>\n",
       "      <td>0.666667</td>\n",
       "    </tr>\n",
       "    <tr>\n",
       "      <th>std</th>\n",
       "      <td>0.474056</td>\n",
       "      <td>35.222322</td>\n",
       "      <td>0.472077</td>\n",
       "    </tr>\n",
       "    <tr>\n",
       "      <th>min</th>\n",
       "      <td>0.000000</td>\n",
       "      <td>-1.000000</td>\n",
       "      <td>0.000000</td>\n",
       "    </tr>\n",
       "    <tr>\n",
       "      <th>25%</th>\n",
       "      <td>0.000000</td>\n",
       "      <td>6.000000</td>\n",
       "      <td>0.000000</td>\n",
       "    </tr>\n",
       "    <tr>\n",
       "      <th>50%</th>\n",
       "      <td>1.000000</td>\n",
       "      <td>13.000000</td>\n",
       "      <td>1.000000</td>\n",
       "    </tr>\n",
       "    <tr>\n",
       "      <th>75%</th>\n",
       "      <td>1.000000</td>\n",
       "      <td>27.000000</td>\n",
       "      <td>1.000000</td>\n",
       "    </tr>\n",
       "    <tr>\n",
       "      <th>max</th>\n",
       "      <td>1.000000</td>\n",
       "      <td>438.000000</td>\n",
       "      <td>1.000000</td>\n",
       "    </tr>\n",
       "  </tbody>\n",
       "</table>\n",
       "</div>"
      ],
      "text/plain": [
       "          Correct        Time      Gender\n",
       "count  351.000000  351.000000  351.000000\n",
       "mean     0.660969   22.353276    0.666667\n",
       "std      0.474056   35.222322    0.472077\n",
       "min      0.000000   -1.000000    0.000000\n",
       "25%      0.000000    6.000000    0.000000\n",
       "50%      1.000000   13.000000    1.000000\n",
       "75%      1.000000   27.000000    1.000000\n",
       "max      1.000000  438.000000    1.000000"
      ]
     },
     "execution_count": 97,
     "metadata": {},
     "output_type": "execute_result"
    }
   ],
   "source": [
    "desc = q_bbc_zh.drop(['StartTime', 'EndTime','Id','QuestionId','MainId','Age','FPattern'], axis=1)\n",
    "desc.describe()"
   ]
  },
  {
   "cell_type": "code",
   "execution_count": 98,
   "metadata": {},
   "outputs": [
    {
     "data": {
      "text/html": [
       "<div>\n",
       "<style>\n",
       "    .dataframe thead tr:only-child th {\n",
       "        text-align: right;\n",
       "    }\n",
       "\n",
       "    .dataframe thead th {\n",
       "        text-align: left;\n",
       "    }\n",
       "\n",
       "    .dataframe tbody tr th {\n",
       "        vertical-align: top;\n",
       "    }\n",
       "</style>\n",
       "<table border=\"1\" class=\"dataframe\">\n",
       "  <thead>\n",
       "    <tr style=\"text-align: right;\">\n",
       "      <th></th>\n",
       "      <th>Correct</th>\n",
       "      <th>Time</th>\n",
       "      <th>Gender</th>\n",
       "    </tr>\n",
       "  </thead>\n",
       "  <tbody>\n",
       "    <tr>\n",
       "      <th>count</th>\n",
       "      <td>403.000000</td>\n",
       "      <td>403.000000</td>\n",
       "      <td>403.000000</td>\n",
       "    </tr>\n",
       "    <tr>\n",
       "      <th>mean</th>\n",
       "      <td>0.866005</td>\n",
       "      <td>19.258065</td>\n",
       "      <td>0.193548</td>\n",
       "    </tr>\n",
       "    <tr>\n",
       "      <th>std</th>\n",
       "      <td>0.341070</td>\n",
       "      <td>24.265076</td>\n",
       "      <td>0.395570</td>\n",
       "    </tr>\n",
       "    <tr>\n",
       "      <th>min</th>\n",
       "      <td>0.000000</td>\n",
       "      <td>0.000000</td>\n",
       "      <td>0.000000</td>\n",
       "    </tr>\n",
       "    <tr>\n",
       "      <th>25%</th>\n",
       "      <td>1.000000</td>\n",
       "      <td>6.000000</td>\n",
       "      <td>0.000000</td>\n",
       "    </tr>\n",
       "    <tr>\n",
       "      <th>50%</th>\n",
       "      <td>1.000000</td>\n",
       "      <td>10.000000</td>\n",
       "      <td>0.000000</td>\n",
       "    </tr>\n",
       "    <tr>\n",
       "      <th>75%</th>\n",
       "      <td>1.000000</td>\n",
       "      <td>21.000000</td>\n",
       "      <td>0.000000</td>\n",
       "    </tr>\n",
       "    <tr>\n",
       "      <th>max</th>\n",
       "      <td>1.000000</td>\n",
       "      <td>151.000000</td>\n",
       "      <td>1.000000</td>\n",
       "    </tr>\n",
       "  </tbody>\n",
       "</table>\n",
       "</div>"
      ],
      "text/plain": [
       "          Correct        Time      Gender\n",
       "count  403.000000  403.000000  403.000000\n",
       "mean     0.866005   19.258065    0.193548\n",
       "std      0.341070   24.265076    0.395570\n",
       "min      0.000000    0.000000    0.000000\n",
       "25%      1.000000    6.000000    0.000000\n",
       "50%      1.000000   10.000000    0.000000\n",
       "75%      1.000000   21.000000    0.000000\n",
       "max      1.000000  151.000000    1.000000"
      ]
     },
     "execution_count": 98,
     "metadata": {},
     "output_type": "execute_result"
    }
   ],
   "source": [
    "desc = q_qq_en.drop(['StartTime', 'EndTime','Id','QuestionId','MainId','Age','FPattern'], axis=1)\n",
    "desc.describe()"
   ]
  },
  {
   "cell_type": "code",
   "execution_count": 99,
   "metadata": {},
   "outputs": [
    {
     "data": {
      "text/html": [
       "<div>\n",
       "<style>\n",
       "    .dataframe thead tr:only-child th {\n",
       "        text-align: right;\n",
       "    }\n",
       "\n",
       "    .dataframe thead th {\n",
       "        text-align: left;\n",
       "    }\n",
       "\n",
       "    .dataframe tbody tr th {\n",
       "        vertical-align: top;\n",
       "    }\n",
       "</style>\n",
       "<table border=\"1\" class=\"dataframe\">\n",
       "  <thead>\n",
       "    <tr style=\"text-align: right;\">\n",
       "      <th></th>\n",
       "      <th>Correct</th>\n",
       "      <th>Time</th>\n",
       "      <th>Gender</th>\n",
       "    </tr>\n",
       "  </thead>\n",
       "  <tbody>\n",
       "    <tr>\n",
       "      <th>count</th>\n",
       "      <td>247.000000</td>\n",
       "      <td>247.000000</td>\n",
       "      <td>247.000000</td>\n",
       "    </tr>\n",
       "    <tr>\n",
       "      <th>mean</th>\n",
       "      <td>0.753036</td>\n",
       "      <td>24.012146</td>\n",
       "      <td>0.736842</td>\n",
       "    </tr>\n",
       "    <tr>\n",
       "      <th>std</th>\n",
       "      <td>0.432121</td>\n",
       "      <td>28.176632</td>\n",
       "      <td>0.441241</td>\n",
       "    </tr>\n",
       "    <tr>\n",
       "      <th>min</th>\n",
       "      <td>0.000000</td>\n",
       "      <td>1.000000</td>\n",
       "      <td>0.000000</td>\n",
       "    </tr>\n",
       "    <tr>\n",
       "      <th>25%</th>\n",
       "      <td>1.000000</td>\n",
       "      <td>7.000000</td>\n",
       "      <td>0.000000</td>\n",
       "    </tr>\n",
       "    <tr>\n",
       "      <th>50%</th>\n",
       "      <td>1.000000</td>\n",
       "      <td>13.000000</td>\n",
       "      <td>1.000000</td>\n",
       "    </tr>\n",
       "    <tr>\n",
       "      <th>75%</th>\n",
       "      <td>1.000000</td>\n",
       "      <td>28.500000</td>\n",
       "      <td>1.000000</td>\n",
       "    </tr>\n",
       "    <tr>\n",
       "      <th>max</th>\n",
       "      <td>1.000000</td>\n",
       "      <td>191.000000</td>\n",
       "      <td>1.000000</td>\n",
       "    </tr>\n",
       "  </tbody>\n",
       "</table>\n",
       "</div>"
      ],
      "text/plain": [
       "          Correct        Time      Gender\n",
       "count  247.000000  247.000000  247.000000\n",
       "mean     0.753036   24.012146    0.736842\n",
       "std      0.432121   28.176632    0.441241\n",
       "min      0.000000    1.000000    0.000000\n",
       "25%      1.000000    7.000000    0.000000\n",
       "50%      1.000000   13.000000    1.000000\n",
       "75%      1.000000   28.500000    1.000000\n",
       "max      1.000000  191.000000    1.000000"
      ]
     },
     "execution_count": 99,
     "metadata": {},
     "output_type": "execute_result"
    }
   ],
   "source": [
    "desc = q_qq_zh.drop(['StartTime', 'EndTime','Id','QuestionId','MainId','Age','FPattern'], axis=1)\n",
    "desc.describe()"
   ]
  },
  {
   "cell_type": "code",
   "execution_count": 100,
   "metadata": {},
   "outputs": [
    {
     "data": {
      "text/html": [
       "<div>\n",
       "<style>\n",
       "    .dataframe thead tr:only-child th {\n",
       "        text-align: right;\n",
       "    }\n",
       "\n",
       "    .dataframe thead th {\n",
       "        text-align: left;\n",
       "    }\n",
       "\n",
       "    .dataframe tbody tr th {\n",
       "        vertical-align: top;\n",
       "    }\n",
       "</style>\n",
       "<table border=\"1\" class=\"dataframe\">\n",
       "  <thead>\n",
       "    <tr style=\"text-align: right;\">\n",
       "      <th></th>\n",
       "      <th>Id</th>\n",
       "      <th>MainId</th>\n",
       "      <th>QuestionId</th>\n",
       "      <th>Correct</th>\n",
       "      <th>StartTime</th>\n",
       "      <th>EndTime</th>\n",
       "      <th>Time</th>\n",
       "      <th>Id</th>\n",
       "      <th>Site</th>\n",
       "      <th>Language</th>\n",
       "      <th>Gender</th>\n",
       "      <th>Age</th>\n",
       "      <th>FPattern</th>\n",
       "    </tr>\n",
       "  </thead>\n",
       "  <tbody>\n",
       "    <tr>\n",
       "      <th>0</th>\n",
       "      <td>15</td>\n",
       "      <td>3</td>\n",
       "      <td>27</td>\n",
       "      <td>0</td>\n",
       "      <td>-1 days +23:59:59</td>\n",
       "      <td>15:47:31</td>\n",
       "      <td>10</td>\n",
       "      <td>3</td>\n",
       "      <td>bbc</td>\n",
       "      <td>en</td>\n",
       "      <td>0</td>\n",
       "      <td>26</td>\n",
       "      <td>1</td>\n",
       "    </tr>\n",
       "    <tr>\n",
       "      <th>1</th>\n",
       "      <td>42</td>\n",
       "      <td>5</td>\n",
       "      <td>27</td>\n",
       "      <td>0</td>\n",
       "      <td>-1 days +23:59:59</td>\n",
       "      <td>21:59:42</td>\n",
       "      <td>30</td>\n",
       "      <td>5</td>\n",
       "      <td>bbc</td>\n",
       "      <td>en</td>\n",
       "      <td>0</td>\n",
       "      <td>56</td>\n",
       "      <td>1</td>\n",
       "    </tr>\n",
       "    <tr>\n",
       "      <th>2</th>\n",
       "      <td>68</td>\n",
       "      <td>7</td>\n",
       "      <td>27</td>\n",
       "      <td>0</td>\n",
       "      <td>-1 days +23:59:59</td>\n",
       "      <td>22:07:35</td>\n",
       "      <td>33</td>\n",
       "      <td>7</td>\n",
       "      <td>bbc</td>\n",
       "      <td>en</td>\n",
       "      <td>1</td>\n",
       "      <td>26</td>\n",
       "      <td>1</td>\n",
       "    </tr>\n",
       "    <tr>\n",
       "      <th>3</th>\n",
       "      <td>118</td>\n",
       "      <td>17</td>\n",
       "      <td>27</td>\n",
       "      <td>1</td>\n",
       "      <td>-1 days +23:59:59</td>\n",
       "      <td>01:23:54</td>\n",
       "      <td>21</td>\n",
       "      <td>17</td>\n",
       "      <td>bbc</td>\n",
       "      <td>en</td>\n",
       "      <td>0</td>\n",
       "      <td>26</td>\n",
       "      <td>1</td>\n",
       "    </tr>\n",
       "    <tr>\n",
       "      <th>4</th>\n",
       "      <td>160</td>\n",
       "      <td>20</td>\n",
       "      <td>27</td>\n",
       "      <td>1</td>\n",
       "      <td>-1 days +23:59:59</td>\n",
       "      <td>23:49:14</td>\n",
       "      <td>4</td>\n",
       "      <td>20</td>\n",
       "      <td>bbc</td>\n",
       "      <td>en</td>\n",
       "      <td>0</td>\n",
       "      <td>26</td>\n",
       "      <td>1</td>\n",
       "    </tr>\n",
       "  </tbody>\n",
       "</table>\n",
       "</div>"
      ],
      "text/plain": [
       "    Id  MainId  QuestionId  Correct         StartTime  EndTime  Time  Id Site  \\\n",
       "0   15       3          27        0 -1 days +23:59:59 15:47:31    10   3  bbc   \n",
       "1   42       5          27        0 -1 days +23:59:59 21:59:42    30   5  bbc   \n",
       "2   68       7          27        0 -1 days +23:59:59 22:07:35    33   7  bbc   \n",
       "3  118      17          27        1 -1 days +23:59:59 01:23:54    21  17  bbc   \n",
       "4  160      20          27        1 -1 days +23:59:59 23:49:14     4  20  bbc   \n",
       "\n",
       "  Language  Gender  Age  FPattern  \n",
       "0       en       0   26         1  \n",
       "1       en       0   56         1  \n",
       "2       en       1   26         1  \n",
       "3       en       0   26         1  \n",
       "4       en       0   26         1  "
      ]
     },
     "execution_count": 100,
     "metadata": {},
     "output_type": "execute_result"
    }
   ],
   "source": [
    "q_bbc_en.head()\n"
   ]
  },
  {
   "cell_type": "code",
   "execution_count": 88,
   "metadata": {},
   "outputs": [
    {
     "data": {
      "text/html": [
       "<div>\n",
       "<style>\n",
       "    .dataframe thead tr:only-child th {\n",
       "        text-align: right;\n",
       "    }\n",
       "\n",
       "    .dataframe thead th {\n",
       "        text-align: left;\n",
       "    }\n",
       "\n",
       "    .dataframe tbody tr th {\n",
       "        vertical-align: top;\n",
       "    }\n",
       "</style>\n",
       "<table border=\"1\" class=\"dataframe\">\n",
       "  <thead>\n",
       "    <tr style=\"text-align: right;\">\n",
       "      <th></th>\n",
       "      <th>Id</th>\n",
       "      <th>MainId</th>\n",
       "      <th>Question1</th>\n",
       "      <th>Question2</th>\n",
       "      <th>Question3</th>\n",
       "      <th>Question4</th>\n",
       "      <th>Question5</th>\n",
       "      <th>Question6</th>\n",
       "      <th>Question7</th>\n",
       "      <th>Question8</th>\n",
       "      <th>Question9</th>\n",
       "      <th>Question10</th>\n",
       "      <th>Question11</th>\n",
       "      <th>Sum</th>\n",
       "      <th>Id</th>\n",
       "      <th>Site</th>\n",
       "      <th>Language</th>\n",
       "      <th>Gender</th>\n",
       "      <th>Age</th>\n",
       "    </tr>\n",
       "  </thead>\n",
       "  <tbody>\n",
       "    <tr>\n",
       "      <th>0</th>\n",
       "      <td>2</td>\n",
       "      <td>3</td>\n",
       "      <td>5</td>\n",
       "      <td>3</td>\n",
       "      <td>2</td>\n",
       "      <td>4</td>\n",
       "      <td>2</td>\n",
       "      <td>2</td>\n",
       "      <td>4</td>\n",
       "      <td>2</td>\n",
       "      <td>5</td>\n",
       "      <td>3</td>\n",
       "      <td>4</td>\n",
       "      <td>36</td>\n",
       "      <td>3</td>\n",
       "      <td>bbc</td>\n",
       "      <td>en</td>\n",
       "      <td>0</td>\n",
       "      <td>26</td>\n",
       "    </tr>\n",
       "    <tr>\n",
       "      <th>1</th>\n",
       "      <td>4</td>\n",
       "      <td>5</td>\n",
       "      <td>4</td>\n",
       "      <td>4</td>\n",
       "      <td>4</td>\n",
       "      <td>3</td>\n",
       "      <td>3</td>\n",
       "      <td>4</td>\n",
       "      <td>3</td>\n",
       "      <td>3</td>\n",
       "      <td>4</td>\n",
       "      <td>2</td>\n",
       "      <td>2</td>\n",
       "      <td>36</td>\n",
       "      <td>5</td>\n",
       "      <td>bbc</td>\n",
       "      <td>en</td>\n",
       "      <td>0</td>\n",
       "      <td>56</td>\n",
       "    </tr>\n",
       "    <tr>\n",
       "      <th>2</th>\n",
       "      <td>6</td>\n",
       "      <td>7</td>\n",
       "      <td>3</td>\n",
       "      <td>4</td>\n",
       "      <td>3</td>\n",
       "      <td>4</td>\n",
       "      <td>2</td>\n",
       "      <td>4</td>\n",
       "      <td>3</td>\n",
       "      <td>4</td>\n",
       "      <td>2</td>\n",
       "      <td>2</td>\n",
       "      <td>2</td>\n",
       "      <td>33</td>\n",
       "      <td>7</td>\n",
       "      <td>bbc</td>\n",
       "      <td>en</td>\n",
       "      <td>1</td>\n",
       "      <td>26</td>\n",
       "    </tr>\n",
       "    <tr>\n",
       "      <th>3</th>\n",
       "      <td>9</td>\n",
       "      <td>17</td>\n",
       "      <td>3</td>\n",
       "      <td>4</td>\n",
       "      <td>3</td>\n",
       "      <td>3</td>\n",
       "      <td>3</td>\n",
       "      <td>3</td>\n",
       "      <td>3</td>\n",
       "      <td>3</td>\n",
       "      <td>3</td>\n",
       "      <td>3</td>\n",
       "      <td>1</td>\n",
       "      <td>32</td>\n",
       "      <td>17</td>\n",
       "      <td>bbc</td>\n",
       "      <td>en</td>\n",
       "      <td>0</td>\n",
       "      <td>26</td>\n",
       "    </tr>\n",
       "    <tr>\n",
       "      <th>4</th>\n",
       "      <td>11</td>\n",
       "      <td>20</td>\n",
       "      <td>4</td>\n",
       "      <td>5</td>\n",
       "      <td>3</td>\n",
       "      <td>5</td>\n",
       "      <td>2</td>\n",
       "      <td>2</td>\n",
       "      <td>5</td>\n",
       "      <td>5</td>\n",
       "      <td>2</td>\n",
       "      <td>2</td>\n",
       "      <td>1</td>\n",
       "      <td>36</td>\n",
       "      <td>20</td>\n",
       "      <td>bbc</td>\n",
       "      <td>en</td>\n",
       "      <td>0</td>\n",
       "      <td>26</td>\n",
       "    </tr>\n",
       "  </tbody>\n",
       "</table>\n",
       "</div>"
      ],
      "text/plain": [
       "   Id  MainId  Question1  Question2  Question3  Question4  Question5  \\\n",
       "0   2       3          5          3          2          4          2   \n",
       "1   4       5          4          4          4          3          3   \n",
       "2   6       7          3          4          3          4          2   \n",
       "3   9      17          3          4          3          3          3   \n",
       "4  11      20          4          5          3          5          2   \n",
       "\n",
       "   Question6  Question7  Question8  Question9  Question10  Question11  Sum  \\\n",
       "0          2          4          2          5           3           4   36   \n",
       "1          4          3          3          4           2           2   36   \n",
       "2          4          3          4          2           2           2   33   \n",
       "3          3          3          3          3           3           1   32   \n",
       "4          2          5          5          2           2           1   36   \n",
       "\n",
       "   Id Site Language  Gender  Age  \n",
       "0   3  bbc       en       0   26  \n",
       "1   5  bbc       en       0   56  \n",
       "2   7  bbc       en       1   26  \n",
       "3  17  bbc       en       0   26  \n",
       "4  20  bbc       en       0   26  "
      ]
     },
     "execution_count": 88,
     "metadata": {},
     "output_type": "execute_result"
    }
   ],
   "source": [
    "q_bbc_en_sus.head()"
   ]
  },
  {
   "cell_type": "code",
   "execution_count": 54,
   "metadata": {},
   "outputs": [
    {
     "data": {
      "text/html": [
       "<div>\n",
       "<style>\n",
       "    .dataframe thead tr:only-child th {\n",
       "        text-align: right;\n",
       "    }\n",
       "\n",
       "    .dataframe thead th {\n",
       "        text-align: left;\n",
       "    }\n",
       "\n",
       "    .dataframe tbody tr th {\n",
       "        vertical-align: top;\n",
       "    }\n",
       "</style>\n",
       "<table border=\"1\" class=\"dataframe\">\n",
       "  <thead>\n",
       "    <tr style=\"text-align: right;\">\n",
       "      <th></th>\n",
       "      <th>Id</th>\n",
       "      <th>Age</th>\n",
       "      <th>Gender</th>\n",
       "      <th>Site</th>\n",
       "      <th>Language</th>\n",
       "    </tr>\n",
       "  </thead>\n",
       "  <tbody>\n",
       "    <tr>\n",
       "      <th>0</th>\n",
       "      <td>1</td>\n",
       "      <td>26</td>\n",
       "      <td>0</td>\n",
       "      <td>qq</td>\n",
       "      <td>en</td>\n",
       "    </tr>\n",
       "    <tr>\n",
       "      <th>1</th>\n",
       "      <td>2</td>\n",
       "      <td>26</td>\n",
       "      <td>0</td>\n",
       "      <td>bbc</td>\n",
       "      <td>en</td>\n",
       "    </tr>\n",
       "    <tr>\n",
       "      <th>2</th>\n",
       "      <td>3</td>\n",
       "      <td>20</td>\n",
       "      <td>0</td>\n",
       "      <td>qq</td>\n",
       "      <td>en</td>\n",
       "    </tr>\n",
       "    <tr>\n",
       "      <th>3</th>\n",
       "      <td>4</td>\n",
       "      <td>56</td>\n",
       "      <td>0</td>\n",
       "      <td>bbc</td>\n",
       "      <td>en</td>\n",
       "    </tr>\n",
       "    <tr>\n",
       "      <th>4</th>\n",
       "      <td>5</td>\n",
       "      <td>26</td>\n",
       "      <td>0</td>\n",
       "      <td>qq</td>\n",
       "      <td>en</td>\n",
       "    </tr>\n",
       "  </tbody>\n",
       "</table>\n",
       "</div>"
      ],
      "text/plain": [
       "   Id  Age  Gender Site Language\n",
       "0   1   26       0   qq       en\n",
       "1   2   26       0  bbc       en\n",
       "2   3   20       0   qq       en\n",
       "3   4   56       0  bbc       en\n",
       "4   5   26       0   qq       en"
      ]
     },
     "execution_count": 54,
     "metadata": {},
     "output_type": "execute_result"
    }
   ],
   "source": [
    "users.head()"
   ]
  },
  {
   "cell_type": "code",
   "execution_count": 77,
   "metadata": {
    "scrolled": false
   },
   "outputs": [
    {
     "name": "stdout",
     "output_type": "stream",
     "text": [
      "Total number of users: 99\n",
      "\n",
      "Male users:   61 \n",
      "Female users: 38\n",
      "\n",
      "English users: 59\n",
      "Chinese users: 40\n"
     ]
    },
    {
     "data": {
      "image/png": "[encoded data removed]",
      "text/plain": [
       "<matplotlib.figure.Figure at 0x1a1ca197f0>"
      ]
     },
     "metadata": {},
     "output_type": "display_data"
    },
    {
     "data": {
      "image/png": "[encoded data removed]",
      "text/plain": [
       "<matplotlib.figure.Figure at 0x1a1d5aae10>"
      ]
     },
     "metadata": {},
     "output_type": "display_data"
    }
   ],
   "source": [
    "print('Total number of users: {0}'.format(len(users)))\n",
    "\n",
    "print('\\nMale users:   {0} \\nFemale users: {1}'.format(len(male_users),(len(users)-len(male_users))))\n",
    "\n",
    "\n",
    "user_dict = dict()\n",
    "user_dict[17] = 0\n",
    "user_dict[20] = 0\n",
    "user_dict[26] = 0\n",
    "user_dict[36] = 0\n",
    "user_dict[46] = 0\n",
    "user_dict[56] = 0\n",
    "user_dict[66] = 0\n",
    "user_dict_en = dict()\n",
    "user_dict_en[17] = 0\n",
    "user_dict_en[20] = 0\n",
    "user_dict_en[26] = 0\n",
    "user_dict_en[36] = 0\n",
    "user_dict_en[46] = 0\n",
    "user_dict_en[56] = 0\n",
    "user_dict_en[66] = 0\n",
    "user_dict_zh = dict()\n",
    "user_dict_zh[17] = 0\n",
    "user_dict_zh[20] = 0\n",
    "user_dict_zh[26] = 0\n",
    "user_dict_zh[36] = 0\n",
    "user_dict_zh[46] = 0\n",
    "user_dict_zh[56] = 0\n",
    "user_dict_zh[66] = 0\n",
    "\n",
    "for user in users.values:\n",
    "    user_dict[user[1]] += 1\n",
    "    if(user[-1]=='en'):\n",
    "        user_dict_en[user[1]] += 1\n",
    "    else:\n",
    "        user_dict_zh[user[1]] += 1\n",
    "        \n",
    "print('\\nEnglish users: {0}'.format(sum(user_dict_en.values())));\n",
    "print('Chinese users: {0}'.format(sum(user_dict_zh.values())));\n",
    "    \n",
    "user_label = ['under 18', '18-24','25-34','35-44','45-54','55-64','66+']\n",
    "normal_bar(user_dict.values(),user_label, 'Age of all users')\n",
    "\n",
    "show_bar_chart(user_dict_en.values(), user_dict_zh.values(),user_label, 'Age users')\n",
    "\n",
    "\n"
   ]
  },
  {
   "cell_type": "markdown",
   "metadata": {},
   "source": [
    "# Data Cleaning"
   ]
  },
  {
   "cell_type": "code",
   "execution_count": null,
   "metadata": {
    "collapsed": true
   },
   "outputs": [],
   "source": []
  },
  {
   "cell_type": "markdown",
   "metadata": {},
   "source": [
    "# Analasys of the Questions"
   ]
  },
  {
   "cell_type": "code",
   "execution_count": 10,
   "metadata": {
    "collapsed": true
   },
   "outputs": [],
   "source": [
    "\n",
    "q_text_id_qq_en_correct = dict()\n",
    "q_text_id_qq_zh_correct = dict()\n",
    "q_text_id_bbc_en_correct = dict()\n",
    "q_text_id_bbc_zh_correct = dict()\n",
    "\n",
    "q_text_id_qq_en_time = dict()\n",
    "q_text_id_qq_zh_time = dict()\n",
    "q_text_id_bbc_en_time = dict()\n",
    "q_text_id_bbc_zh_time = dict()\n",
    "\n",
    "for i in range(1,27):\n",
    "    if(i%2==1):\n",
    "        q_text_id_qq_en_correct[i] = 0\n",
    "        q_text_id_qq_en_time[i] = 0\n",
    "    else:\n",
    "        q_text_id_qq_zh_correct[i] = 0\n",
    "        q_text_id_qq_zh_time[i] = 0\n",
    "        \n",
    "for i in range(27,53):\n",
    "    if(i%2==1):\n",
    "        q_text_id_bbc_en_correct[i] = 0\n",
    "        q_text_id_bbc_en_time[i] = 0\n",
    "    else:\n",
    "        q_text_id_bbc_zh_correct[i] = 0\n",
    "        q_text_id_bbc_zh_time[i] = 0"
   ]
  },
  {
   "cell_type": "code",
   "execution_count": 11,
   "metadata": {},
   "outputs": [
    {
     "name": "stdout",
     "output_type": "stream",
     "text": [
      " \n",
      "BBC number of replies, en: 30.0\n",
      "BBC number of replies, zh: 27.0\n",
      "QQ number of replies, en: 31.0\n",
      "QQ number of replies, zh: 19.0\n"
     ]
    }
   ],
   "source": [
    "bbc_zh_length = 0\n",
    "bbc_en_length = 0\n",
    "qq_zh_length = 0\n",
    "qq_en_length = 0\n",
    "\n",
    "#Data needs to be cleaned\n",
    "\n",
    "#question number 13 for qq does not seem to work either\n",
    "for i in q_bbc_en.values:\n",
    "    if(actions.loc[actions['QuestionsId'] == int(i[2])]['ScreenWidth'].item() > 1000):\n",
    "        q_text_id_bbc_en_correct[(i[2])] += int(i[3])\n",
    "        if(int(i[3])==1 and i[7] < 400):\n",
    "            q_text_id_bbc_en_time[(i[2])] += int(i[6])\n",
    "        bbc_en_length += 1\n",
    "    \n",
    "for i in q_bbc_zh.values:\n",
    "    if(actions.loc[actions['QuestionsId'] == int(i[2])]['ScreenWidth'].item() > 1000):\n",
    "        bbc_zh_length += 1\n",
    "        q_text_id_bbc_zh_correct[(i[2])] += int(i[3])\n",
    "        if(int(i[3])==1 and i[7] < 400):\n",
    "            q_text_id_bbc_zh_time[(i[2])] += int(i[6])\n",
    "    \n",
    "for i in q_qq_en.values:\n",
    "    if(actions.loc[actions['QuestionsId'] == int(i[2])]['ScreenWidth'].item() > 1000):\n",
    "        qq_en_length += 1\n",
    "        q_text_id_qq_en_correct[(i[2])] += int(i[3])\n",
    "        if(int(i[3])==1 and i[7] < 400):\n",
    "            q_text_id_qq_en_time[(i[2])] += int(i[6])\n",
    "    \n",
    "for i in q_qq_zh.values:\n",
    "    if(actions.loc[actions['QuestionsId'] == int(i[2])]['ScreenWidth'].item() > 1000):\n",
    "        qq_zh_length += 1\n",
    "        q_text_id_qq_zh_correct[(i[2])] += int(i[3])\n",
    "        if(int(i[3])==1 and i[7] < 400):\n",
    "            q_text_id_qq_zh_time[(i[2])] += int(i[6])\n",
    "    \n",
    "bbc_zh_length = bbc_zh_length/13\n",
    "bbc_en_length = bbc_en_length/13\n",
    "qq_zh_length = qq_zh_length/13\n",
    "qq_en_length = qq_en_length/13\n",
    "\n",
    "print(' ')\n",
    "print('BBC number of replies, en: {0}'.format(bbc_en_length))\n",
    "print('BBC number of replies, zh: {0}'.format(bbc_zh_length))\n",
    "print('QQ number of replies, en: {0}'.format(qq_en_length))\n",
    "print('QQ number of replies, zh: {0}'.format(qq_zh_length))\n"
   ]
  },
  {
   "cell_type": "code",
   "execution_count": 101,
   "metadata": {},
   "outputs": [
    {
     "data": {
      "image/png": "[encoded data removed]",
      "text/plain": [
       "<matplotlib.figure.Figure at 0x1a1d5f76a0>"
      ]
     },
     "metadata": {},
     "output_type": "display_data"
    },
    {
     "data": {
      "image/png": "[encoded data removed]",
      "text/plain": [
       "<matplotlib.figure.Figure at 0x1a1d5f7128>"
      ]
     },
     "metadata": {},
     "output_type": "display_data"
    },
    {
     "data": {
      "image/png": "[encoded data removed]",
      "text/plain": [
       "<matplotlib.figure.Figure at 0x1a1d59a9e8>"
      ]
     },
     "metadata": {},
     "output_type": "display_data"
    },
    {
     "data": {
      "image/png": "[encoded data removed]",
      "text/plain": [
       "<matplotlib.figure.Figure at 0x1a1e377240>"
      ]
     },
     "metadata": {},
     "output_type": "display_data"
    },
    {
     "name": "stdout",
     "output_type": "stream",
     "text": [
      "Mean times of correct answers\n",
      "BBC mean time en: 266.4333333333334\n",
      "BBC mean time zh: 198.037037037037\n",
      "\n",
      "QQ mean time en:  208.51612903225805\n",
      "QQ mean time zh:  182.68421052631575\n"
     ]
    }
   ],
   "source": [
    "bbc_labels = ['1F', '2F', '3F', '4F', '5F', '6', '7F','8','9F','10','11F', '12', '13F']\n",
    "qq_labels = ['1F', '2', '3F', '4', '5F', '6', '7F','8','9','10','11F', '12F', '13']\n",
    "show_bar_chart([val/bbc_en_length for val in q_text_id_bbc_en_correct.values()],\n",
    "               [val/bbc_zh_length for val in q_text_id_bbc_zh_correct.values()], bbc_labels, 'BBC Correct')\n",
    "show_bar_chart([val/qq_en_length for val in q_text_id_qq_en_correct.values()],\n",
    "               [val/qq_zh_length for val in q_text_id_qq_zh_correct.values()], qq_labels, 'QQ Correct')\n",
    "\n",
    "show_bar_chart([val/bbc_en_length for val in q_text_id_bbc_en_time.values()],\n",
    "               [val/bbc_zh_length for val in q_text_id_bbc_zh_time.values()], bbc_labels, 'BBC Mean Time')\n",
    "show_bar_chart([val/qq_en_length for val in q_text_id_qq_en_time.values()],\n",
    "               [val/qq_zh_length for val in q_text_id_qq_zh_time.values()], qq_labels, 'QQ Mean Time')\n",
    "print('Mean times of correct answers')\n",
    "print('BBC mean time en: {0}'.format(sum([val/bbc_en_length for val in q_text_id_bbc_en_time.values()])))\n",
    "print('BBC mean time zh: {0}'.format(sum([val/bbc_zh_length for val in q_text_id_bbc_zh_time.values()])))\n",
    "print('\\nQQ mean time en:  {0}'.format(sum([val/qq_en_length for val in q_text_id_qq_en_time.values()])))\n",
    "print('QQ mean time zh:  {0}'.format(sum([val/qq_zh_length for val in q_text_id_qq_zh_time.values()])))\n",
    "\n",
    "\n",
    "# Add % of correct results maby in a circle graph"
   ]
  },
  {
   "cell_type": "markdown",
   "metadata": {
    "collapsed": true
   },
   "source": [
    "# Sus Analysis"
   ]
  },
  {
   "cell_type": "code",
   "execution_count": null,
   "metadata": {
    "collapsed": true
   },
   "outputs": [],
   "source": [
    "for row in q_qq_zh_sus:\n",
    "    #make sure to calculate correct sum for each row here where some rows should be negative"
   ]
  },
  {
   "cell_type": "code",
   "execution_count": 23,
   "metadata": {},
   "outputs": [
    {
     "name": "stdout",
     "output_type": "stream",
     "text": [
      "QQ, Zh sus mean: 30.31578947368421\n",
      "QQ, En sus mean: 28.233333333333334\n",
      "\n",
      "BBC, Zh sus mean: 31.38095238095238\n",
      "BBC, En sus mean: 29.551724137931036\n"
     ]
    }
   ],
   "source": [
    "\n",
    "print('QQ, Zh sus mean: {0}'.format(calculate_mean(q_qq_zh_sus['Sum'])))\n",
    "print('QQ, En sus mean: {0}'.format(calculate_mean(q_qq_en_sus['Sum'])))\n",
    "print('')\n",
    "\n",
    "print('BBC, Zh sus mean: {0}'.format(calculate_mean(q_bbc_zh_sus['Sum'])))\n",
    "print('BBC, En sus mean: {0}'.format(calculate_mean(q_bbc_en_sus['Sum'])))\n",
    "\n"
   ]
  },
  {
   "cell_type": "code",
   "execution_count": 37,
   "metadata": {},
   "outputs": [
    {
     "data": {
      "image/png": "[encoded data removed]",
      "text/plain": [
       "<matplotlib.figure.Figure at 0x1a1d658320>"
      ]
     },
     "metadata": {},
     "output_type": "display_data"
    }
   ],
   "source": [
    "sus_bar(q_qq_zh_sus, q_qq_en_sus, q_bbc_zh_sus, q_bbc_en_sus, 'Sus')"
   ]
  },
  {
   "cell_type": "markdown",
   "metadata": {},
   "source": [
    "### Questions:\n",
    "1. I liked the design of the site\n",
    "2. The design of this site was similar too other news sites\n",
    "3. I think that I would like to use this site frequently\n",
    "4. I thought the site was easy to use\n",
    "5. The design of this site was unusual to me\n",
    "6. I thought there was too much inconsistency in this site\n",
    "7. I felt very confident using the site\n",
    "8. I thought the material i was looking for was easy to find\n",
    "9. I found the site very cumbersome to use\n",
    "10. I thought that the amount of information on this site was too sparse\n",
    "11. I felt overwhelmed using this site\n"
   ]
  },
  {
   "cell_type": "markdown",
   "metadata": {},
   "source": [
    "## Sus Conclusion\n",
    "so far.. It seems like the chinese users over all was better at finding information on both sites. Also looking at the sus we can clearly see that chinese people found both sites similary difficult to use. English speakers on the other hand found the chinese inspired QQ site both harder to use and where also disliked the site quite a lot more than the bbc site. It should also be noted that the chinese users had lower correct scores. conitnue....\n"
   ]
  },
  {
   "cell_type": "code",
   "execution_count": null,
   "metadata": {
    "collapsed": true
   },
   "outputs": [],
   "source": []
  }
 ],
 "metadata": {
  "kernelspec": {
   "display_name": "Python 3",
   "language": "python",
   "name": "python3"
  },
  "language_info": {
   "codemirror_mode": {
    "name": "ipython",
    "version": 3
   },
   "file_extension": ".py",
   "mimetype": "text/x-python",
   "name": "python",
   "nbconvert_exporter": "python",
   "pygments_lexer": "ipython3",
   "version": "3.6.3"
  }
 },
 "nbformat": 4,
 "nbformat_minor": 2
}
